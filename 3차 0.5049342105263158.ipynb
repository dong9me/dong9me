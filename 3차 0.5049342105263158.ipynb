{
 "cells": [
  {
   "cell_type": "markdown",
   "metadata": {},
   "source": [
    "# Load Data"
   ]
  },
  {
   "cell_type": "code",
   "execution_count": 1,
   "metadata": {},
   "outputs": [],
   "source": [
    "import numpy as np\n",
    "import pandas as pd\n",
    "import seaborn as sns\n",
    "import matplotlib.pyplot as plt\n",
    "\n",
    "from sklearn.metrics import f1_score"
   ]
  },
  {
   "cell_type": "code",
   "execution_count": 2,
   "metadata": {},
   "outputs": [
    {
     "name": "stderr",
     "output_type": "stream",
     "text": [
      "C:\\Users\\ejvmw\\Anaconda3\\lib\\site-packages\\IPython\\core\\interactiveshell.py:3057: DtypeWarning: Columns (172,173,174,175,176,177,178,179) have mixed types. Specify dtype option on import or set low_memory=False.\n",
      "  interactivity=interactivity, compiler=compiler, result=result)\n"
     ]
    }
   ],
   "source": [
    "train = pd.read_csv('PJT002_train.csv', parse_dates=[\"dt_of_athrztn\"])\n",
    "val = pd.read_csv('PJT002_validation.csv', parse_dates=[\"dt_of_athrztn\"])\n",
    "test = pd.read_csv('PJT002_test.csv', parse_dates=[\"dt_of_athrztn\"])\n",
    "sub = pd.read_csv('PJT002_submission.csv')"
   ]
  },
  {
   "cell_type": "code",
   "execution_count": 3,
   "metadata": {},
   "outputs": [
    {
     "data": {
      "text/html": [
       "<div>\n",
       "<style scoped>\n",
       "    .dataframe tbody tr th:only-of-type {\n",
       "        vertical-align: middle;\n",
       "    }\n",
       "\n",
       "    .dataframe tbody tr th {\n",
       "        vertical-align: top;\n",
       "    }\n",
       "\n",
       "    .dataframe thead th {\n",
       "        text-align: right;\n",
       "    }\n",
       "</style>\n",
       "<table border=\"1\" class=\"dataframe\">\n",
       "  <thead>\n",
       "    <tr style=\"text-align: right;\">\n",
       "      <th></th>\n",
       "      <th>dt_of_fr</th>\n",
       "      <th>fr_yn</th>\n",
       "      <th>bldng_us</th>\n",
       "      <th>bldng_archtctr</th>\n",
       "      <th>bldng_cnt</th>\n",
       "      <th>bldng_ar</th>\n",
       "      <th>ttl_ar</th>\n",
       "      <th>lnd_ar</th>\n",
       "      <th>dt_of_athrztn</th>\n",
       "      <th>ttl_grnd_flr</th>\n",
       "      <th>...</th>\n",
       "      <th>no_tbc_zn_dstnc</th>\n",
       "      <th>bldng_cnt_in_50m</th>\n",
       "      <th>trgt_crtr</th>\n",
       "      <th>fr_fghtng_fclt_spcl_css_5_yn</th>\n",
       "      <th>fr_fghtng_fclt_spcl_css_6_yn</th>\n",
       "      <th>us_yn</th>\n",
       "      <th>dngrs_thng_yn</th>\n",
       "      <th>slf_fr_brgd_yn</th>\n",
       "      <th>blk_dngrs_thng_mnfctr_yn</th>\n",
       "      <th>cltrl_hrtg_yn</th>\n",
       "    </tr>\n",
       "  </thead>\n",
       "  <tbody>\n",
       "    <tr>\n",
       "      <th>0</th>\n",
       "      <td>2017-10-20 05:54</td>\n",
       "      <td>Y</td>\n",
       "      <td>단독주택</td>\n",
       "      <td>블록구조</td>\n",
       "      <td>3</td>\n",
       "      <td>69.42</td>\n",
       "      <td>69.42</td>\n",
       "      <td>0.0</td>\n",
       "      <td>1977.0</td>\n",
       "      <td>1.0</td>\n",
       "      <td>...</td>\n",
       "      <td>88</td>\n",
       "      <td>0</td>\n",
       "      <td>NaN</td>\n",
       "      <td>NaN</td>\n",
       "      <td>NaN</td>\n",
       "      <td>NaN</td>\n",
       "      <td>NaN</td>\n",
       "      <td>NaN</td>\n",
       "      <td>NaN</td>\n",
       "      <td>NaN</td>\n",
       "    </tr>\n",
       "    <tr>\n",
       "      <th>1</th>\n",
       "      <td>2018-09-30 08:26</td>\n",
       "      <td>N</td>\n",
       "      <td>NaN</td>\n",
       "      <td>NaN</td>\n",
       "      <td>3</td>\n",
       "      <td>46.29</td>\n",
       "      <td>46.29</td>\n",
       "      <td>0.0</td>\n",
       "      <td>nan</td>\n",
       "      <td>1.0</td>\n",
       "      <td>...</td>\n",
       "      <td>7727</td>\n",
       "      <td>0</td>\n",
       "      <td>NaN</td>\n",
       "      <td>NaN</td>\n",
       "      <td>NaN</td>\n",
       "      <td>NaN</td>\n",
       "      <td>NaN</td>\n",
       "      <td>NaN</td>\n",
       "      <td>NaN</td>\n",
       "      <td>NaN</td>\n",
       "    </tr>\n",
       "    <tr>\n",
       "      <th>2</th>\n",
       "      <td>2016-10-30 14:57</td>\n",
       "      <td>Y</td>\n",
       "      <td>공동주택</td>\n",
       "      <td>철근콘크리트구조</td>\n",
       "      <td>1</td>\n",
       "      <td>583.80</td>\n",
       "      <td>2516.76</td>\n",
       "      <td>1446.0</td>\n",
       "      <td>20001104.0</td>\n",
       "      <td>5.0</td>\n",
       "      <td>...</td>\n",
       "      <td>72</td>\n",
       "      <td>14</td>\n",
       "      <td>NaN</td>\n",
       "      <td>NaN</td>\n",
       "      <td>NaN</td>\n",
       "      <td>NaN</td>\n",
       "      <td>NaN</td>\n",
       "      <td>NaN</td>\n",
       "      <td>NaN</td>\n",
       "      <td>NaN</td>\n",
       "    </tr>\n",
       "    <tr>\n",
       "      <th>3</th>\n",
       "      <td>2016-06-14 05:23</td>\n",
       "      <td>N</td>\n",
       "      <td>단독주택</td>\n",
       "      <td>일반목구조</td>\n",
       "      <td>2</td>\n",
       "      <td>48.92</td>\n",
       "      <td>48.92</td>\n",
       "      <td>0.0</td>\n",
       "      <td>1936</td>\n",
       "      <td>1.0</td>\n",
       "      <td>...</td>\n",
       "      <td>508</td>\n",
       "      <td>11</td>\n",
       "      <td>NaN</td>\n",
       "      <td>NaN</td>\n",
       "      <td>NaN</td>\n",
       "      <td>NaN</td>\n",
       "      <td>NaN</td>\n",
       "      <td>NaN</td>\n",
       "      <td>NaN</td>\n",
       "      <td>NaN</td>\n",
       "    </tr>\n",
       "    <tr>\n",
       "      <th>4</th>\n",
       "      <td>2018-04-22 05:38</td>\n",
       "      <td>N</td>\n",
       "      <td>NaN</td>\n",
       "      <td>NaN</td>\n",
       "      <td>2</td>\n",
       "      <td>0.00</td>\n",
       "      <td>0.00</td>\n",
       "      <td>0.0</td>\n",
       "      <td>nan</td>\n",
       "      <td>NaN</td>\n",
       "      <td>...</td>\n",
       "      <td>707</td>\n",
       "      <td>0</td>\n",
       "      <td>NaN</td>\n",
       "      <td>NaN</td>\n",
       "      <td>NaN</td>\n",
       "      <td>NaN</td>\n",
       "      <td>NaN</td>\n",
       "      <td>NaN</td>\n",
       "      <td>NaN</td>\n",
       "      <td>NaN</td>\n",
       "    </tr>\n",
       "  </tbody>\n",
       "</table>\n",
       "<p>5 rows × 180 columns</p>\n",
       "</div>"
      ],
      "text/plain": [
       "           dt_of_fr fr_yn bldng_us bldng_archtctr  bldng_cnt  bldng_ar  \\\n",
       "0  2017-10-20 05:54     Y     단독주택           블록구조          3     69.42   \n",
       "1  2018-09-30 08:26     N      NaN            NaN          3     46.29   \n",
       "2  2016-10-30 14:57     Y     공동주택       철근콘크리트구조          1    583.80   \n",
       "3  2016-06-14 05:23     N     단독주택          일반목구조          2     48.92   \n",
       "4  2018-04-22 05:38     N      NaN            NaN          2      0.00   \n",
       "\n",
       "    ttl_ar  lnd_ar dt_of_athrztn  ttl_grnd_flr  ...  no_tbc_zn_dstnc  \\\n",
       "0    69.42     0.0        1977.0           1.0  ...               88   \n",
       "1    46.29     0.0           nan           1.0  ...             7727   \n",
       "2  2516.76  1446.0    20001104.0           5.0  ...               72   \n",
       "3    48.92     0.0          1936           1.0  ...              508   \n",
       "4     0.00     0.0           nan           NaN  ...              707   \n",
       "\n",
       "  bldng_cnt_in_50m  trgt_crtr  fr_fghtng_fclt_spcl_css_5_yn  \\\n",
       "0                0        NaN                           NaN   \n",
       "1                0        NaN                           NaN   \n",
       "2               14        NaN                           NaN   \n",
       "3               11        NaN                           NaN   \n",
       "4                0        NaN                           NaN   \n",
       "\n",
       "   fr_fghtng_fclt_spcl_css_6_yn  us_yn  dngrs_thng_yn  slf_fr_brgd_yn  \\\n",
       "0                           NaN    NaN            NaN             NaN   \n",
       "1                           NaN    NaN            NaN             NaN   \n",
       "2                           NaN    NaN            NaN             NaN   \n",
       "3                           NaN    NaN            NaN             NaN   \n",
       "4                           NaN    NaN            NaN             NaN   \n",
       "\n",
       "   blk_dngrs_thng_mnfctr_yn  cltrl_hrtg_yn  \n",
       "0                       NaN            NaN  \n",
       "1                       NaN            NaN  \n",
       "2                       NaN            NaN  \n",
       "3                       NaN            NaN  \n",
       "4                       NaN            NaN  \n",
       "\n",
       "[5 rows x 180 columns]"
      ]
     },
     "execution_count": 3,
     "metadata": {},
     "output_type": "execute_result"
    }
   ],
   "source": [
    "train.head()"
   ]
  },
  {
   "cell_type": "code",
   "execution_count": 4,
   "metadata": {},
   "outputs": [
    {
     "name": "stdout",
     "output_type": "stream",
     "text": [
      "(59199, 180)\n",
      "(6898, 180)\n",
      "(2957, 180)\n",
      "(2957, 1)\n"
     ]
    }
   ],
   "source": [
    "print(train.shape)\n",
    "print(val.shape)\n",
    "print(test.shape)\n",
    "print(sub.shape)"
   ]
  },
  {
   "cell_type": "code",
   "execution_count": 5,
   "metadata": {
    "scrolled": true
   },
   "outputs": [
    {
     "data": {
      "text/plain": [
       "array(['dt_of_fr', 'fr_yn', 'bldng_us', 'bldng_archtctr', 'bldng_cnt',\n",
       "       'bldng_ar', 'ttl_ar', 'lnd_ar', 'dt_of_athrztn', 'ttl_grnd_flr',\n",
       "       'ttl_dwn_flr', 'bldng_us_clssfctn', 'tmprtr', 'prcpttn', 'wnd_spd',\n",
       "       'wnd_drctn', 'hmdt', 'gas_engry_us_201401', 'ele_engry_us_201401',\n",
       "       'gas_engry_us_201402', 'ele_engry_us_201402',\n",
       "       'gas_engry_us_201403', 'ele_engry_us_201403',\n",
       "       'gas_engry_us_201404', 'ele_engry_us_201404',\n",
       "       'gas_engry_us_201405', 'ele_engry_us_201405',\n",
       "       'gas_engry_us_201406', 'ele_engry_us_201406',\n",
       "       'gas_engry_us_201407', 'ele_engry_us_201407',\n",
       "       'gas_engry_us_201408', 'ele_engry_us_201408',\n",
       "       'gas_engry_us_201409', 'ele_engry_us_201409',\n",
       "       'gas_engry_us_201410', 'ele_engry_us_201410',\n",
       "       'gas_engry_us_201411', 'ele_engry_us_201411',\n",
       "       'gas_engry_us_201412', 'ele_engry_us_201412',\n",
       "       'gas_engry_us_201501', 'ele_engry_us_201501',\n",
       "       'gas_engry_us_201502', 'ele_engry_us_201502',\n",
       "       'gas_engry_us_201503', 'ele_engry_us_201503',\n",
       "       'gas_engry_us_201504', 'ele_engry_us_201504',\n",
       "       'gas_engry_us_201505', 'ele_engry_us_201505',\n",
       "       'gas_engry_us_201506', 'ele_engry_us_201506',\n",
       "       'gas_engry_us_201507', 'ele_engry_us_201507',\n",
       "       'gas_engry_us_201508', 'ele_engry_us_201508',\n",
       "       'gas_engry_us_201509', 'ele_engry_us_201509',\n",
       "       'gas_engry_us_201510', 'ele_engry_us_201510',\n",
       "       'gas_engry_us_201511', 'ele_engry_us_201511',\n",
       "       'gas_engry_us_201512', 'ele_engry_us_201512',\n",
       "       'gas_engry_us_201601', 'ele_engry_us_201601',\n",
       "       'gas_engry_us_201602', 'ele_engry_us_201602',\n",
       "       'gas_engry_us_201603', 'ele_engry_us_201603',\n",
       "       'gas_engry_us_201604', 'ele_engry_us_201604',\n",
       "       'gas_engry_us_201605', 'ele_engry_us_201605',\n",
       "       'gas_engry_us_201606', 'ele_engry_us_201606',\n",
       "       'gas_engry_us_201607', 'ele_engry_us_201607',\n",
       "       'gas_engry_us_201608', 'ele_engry_us_201608',\n",
       "       'gas_engry_us_201609', 'ele_engry_us_201609',\n",
       "       'gas_engry_us_201610', 'ele_engry_us_201610',\n",
       "       'gas_engry_us_201611', 'ele_engry_us_201611',\n",
       "       'gas_engry_us_201612', 'ele_engry_us_201612',\n",
       "       'gas_engry_us_201701', 'ele_engry_us_201701',\n",
       "       'gas_engry_us_201702', 'ele_engry_us_201702',\n",
       "       'gas_engry_us_201703', 'ele_engry_us_201703',\n",
       "       'gas_engry_us_201704', 'ele_engry_us_201704',\n",
       "       'gas_engry_us_201705', 'ele_engry_us_201705',\n",
       "       'gas_engry_us_201706', 'ele_engry_us_201706',\n",
       "       'gas_engry_us_201707', 'ele_engry_us_201707',\n",
       "       'gas_engry_us_201708', 'ele_engry_us_201708',\n",
       "       'gas_engry_us_201709', 'ele_engry_us_201709',\n",
       "       'gas_engry_us_201710', 'ele_engry_us_201710',\n",
       "       'gas_engry_us_201711', 'ele_engry_us_201711',\n",
       "       'gas_engry_us_201712', 'ele_engry_us_201712',\n",
       "       'gas_engry_us_201801', 'ele_engry_us_201801',\n",
       "       'gas_engry_us_201802', 'ele_engry_us_201802',\n",
       "       'gas_engry_us_201803', 'ele_engry_us_201803',\n",
       "       'gas_engry_us_201804', 'ele_engry_us_201804',\n",
       "       'gas_engry_us_201805', 'ele_engry_us_201805',\n",
       "       'gas_engry_us_201806', 'ele_engry_us_201806',\n",
       "       'gas_engry_us_201807', 'ele_engry_us_201807',\n",
       "       'gas_engry_us_201808', 'ele_engry_us_201808',\n",
       "       'gas_engry_us_201809', 'ele_engry_us_201809',\n",
       "       'gas_engry_us_201810', 'ele_engry_us_201810',\n",
       "       'gas_engry_us_201811', 'ele_engry_us_201811',\n",
       "       'gas_engry_us_201812', 'ele_engry_us_201812', 'lw_13101010',\n",
       "       'lw_13101110', 'lw_13101210', 'lw_13101211', 'lw_13101310',\n",
       "       'lw_13101410', 'lw_13111010', 'lw_13111110', 'lw_13121010',\n",
       "       'lw_13121011', 'lw_13131010', 'lw_13131110', 'lw_13141010',\n",
       "       'lw_13141011', 'jmk', 'id', 'rgnl_ar_nm', 'rgnl_ar_nm2',\n",
       "       'lnd_us_sttn_nm', 'rd_sd_nm', 'emd_nm', 'hm_cnt', 'fr_sttn_dstnc',\n",
       "       'bldng_ar_prc', 'fr_wthr_fclt_dstnc', 'fr_mn_cnt', 'mlt_us_yn',\n",
       "       'cctv_dstnc', 'fr_wthr_fclt_in_100m', 'cctv_in_100m',\n",
       "       'tbc_rtl_str_dstnc', 'sft_emrgnc_bll_dstnc', 'ahsm_dstnc',\n",
       "       'no_tbc_zn_dstnc', 'bldng_cnt_in_50m', 'trgt_crtr',\n",
       "       'fr_fghtng_fclt_spcl_css_5_yn', 'fr_fghtng_fclt_spcl_css_6_yn',\n",
       "       'us_yn', 'dngrs_thng_yn', 'slf_fr_brgd_yn',\n",
       "       'blk_dngrs_thng_mnfctr_yn', 'cltrl_hrtg_yn'], dtype=object)"
      ]
     },
     "execution_count": 5,
     "metadata": {},
     "output_type": "execute_result"
    }
   ],
   "source": [
    "train.columns.values"
   ]
  },
  {
   "cell_type": "code",
   "execution_count": 6,
   "metadata": {},
   "outputs": [
    {
     "data": {
      "text/plain": [
       "array(['dt_of_fr', 'bldng_us', 'bldng_archtctr', 'bldng_cnt', 'bldng_ar',\n",
       "       'ttl_ar', 'lnd_ar', 'dt_of_athrztn', 'ttl_grnd_flr', 'ttl_dwn_flr',\n",
       "       'bldng_us_clssfctn', 'tmprtr', 'prcpttn', 'wnd_spd', 'wnd_drctn',\n",
       "       'hmdt', 'gas_engry_us_201401', 'ele_engry_us_201401',\n",
       "       'gas_engry_us_201402', 'ele_engry_us_201402',\n",
       "       'gas_engry_us_201403', 'ele_engry_us_201403',\n",
       "       'gas_engry_us_201404', 'ele_engry_us_201404',\n",
       "       'gas_engry_us_201405', 'ele_engry_us_201405',\n",
       "       'gas_engry_us_201406', 'ele_engry_us_201406',\n",
       "       'gas_engry_us_201407', 'ele_engry_us_201407',\n",
       "       'gas_engry_us_201408', 'ele_engry_us_201408',\n",
       "       'gas_engry_us_201409', 'ele_engry_us_201409',\n",
       "       'gas_engry_us_201410', 'ele_engry_us_201410',\n",
       "       'gas_engry_us_201411', 'ele_engry_us_201411',\n",
       "       'gas_engry_us_201412', 'ele_engry_us_201412',\n",
       "       'gas_engry_us_201501', 'ele_engry_us_201501',\n",
       "       'gas_engry_us_201502', 'ele_engry_us_201502',\n",
       "       'gas_engry_us_201503', 'ele_engry_us_201503',\n",
       "       'gas_engry_us_201504', 'ele_engry_us_201504',\n",
       "       'gas_engry_us_201505', 'ele_engry_us_201505',\n",
       "       'gas_engry_us_201506', 'ele_engry_us_201506',\n",
       "       'gas_engry_us_201507', 'ele_engry_us_201507',\n",
       "       'gas_engry_us_201508', 'ele_engry_us_201508',\n",
       "       'gas_engry_us_201509', 'ele_engry_us_201509',\n",
       "       'gas_engry_us_201510', 'ele_engry_us_201510',\n",
       "       'gas_engry_us_201511', 'ele_engry_us_201511',\n",
       "       'gas_engry_us_201512', 'ele_engry_us_201512',\n",
       "       'gas_engry_us_201601', 'ele_engry_us_201601',\n",
       "       'gas_engry_us_201602', 'ele_engry_us_201602',\n",
       "       'gas_engry_us_201603', 'ele_engry_us_201603',\n",
       "       'gas_engry_us_201604', 'ele_engry_us_201604',\n",
       "       'gas_engry_us_201605', 'ele_engry_us_201605',\n",
       "       'gas_engry_us_201606', 'ele_engry_us_201606',\n",
       "       'gas_engry_us_201607', 'ele_engry_us_201607',\n",
       "       'gas_engry_us_201608', 'ele_engry_us_201608',\n",
       "       'gas_engry_us_201609', 'ele_engry_us_201609',\n",
       "       'gas_engry_us_201610', 'ele_engry_us_201610',\n",
       "       'gas_engry_us_201611', 'ele_engry_us_201611',\n",
       "       'gas_engry_us_201612', 'ele_engry_us_201612',\n",
       "       'gas_engry_us_201701', 'ele_engry_us_201701',\n",
       "       'gas_engry_us_201702', 'ele_engry_us_201702',\n",
       "       'gas_engry_us_201703', 'ele_engry_us_201703',\n",
       "       'gas_engry_us_201704', 'ele_engry_us_201704',\n",
       "       'gas_engry_us_201705', 'ele_engry_us_201705',\n",
       "       'gas_engry_us_201706', 'ele_engry_us_201706',\n",
       "       'gas_engry_us_201707', 'ele_engry_us_201707',\n",
       "       'gas_engry_us_201708', 'ele_engry_us_201708',\n",
       "       'gas_engry_us_201709', 'ele_engry_us_201709',\n",
       "       'gas_engry_us_201710', 'ele_engry_us_201710',\n",
       "       'gas_engry_us_201711', 'ele_engry_us_201711',\n",
       "       'gas_engry_us_201712', 'ele_engry_us_201712',\n",
       "       'gas_engry_us_201801', 'ele_engry_us_201801',\n",
       "       'gas_engry_us_201802', 'ele_engry_us_201802',\n",
       "       'gas_engry_us_201803', 'ele_engry_us_201803',\n",
       "       'gas_engry_us_201804', 'ele_engry_us_201804',\n",
       "       'gas_engry_us_201805', 'ele_engry_us_201805',\n",
       "       'gas_engry_us_201806', 'ele_engry_us_201806',\n",
       "       'gas_engry_us_201807', 'ele_engry_us_201807',\n",
       "       'gas_engry_us_201808', 'ele_engry_us_201808',\n",
       "       'gas_engry_us_201809', 'ele_engry_us_201809',\n",
       "       'gas_engry_us_201810', 'ele_engry_us_201810',\n",
       "       'gas_engry_us_201811', 'ele_engry_us_201811',\n",
       "       'gas_engry_us_201812', 'ele_engry_us_201812', 'lw_13101010',\n",
       "       'lw_13101110', 'lw_13101210', 'lw_13101211', 'lw_13101310',\n",
       "       'lw_13101410', 'lw_13111010', 'lw_13111110', 'lw_13121010',\n",
       "       'lw_13121011', 'lw_13131010', 'lw_13131110', 'lw_13141010',\n",
       "       'lw_13141011', 'jmk', 'id', 'rgnl_ar_nm', 'rgnl_ar_nm2',\n",
       "       'lnd_us_sttn_nm', 'rd_sd_nm', 'emd_nm', 'hm_cnt', 'fr_sttn_dstnc',\n",
       "       'bldng_ar_prc', 'fr_wthr_fclt_dstnc', 'fr_mn_cnt', 'mlt_us_yn',\n",
       "       'cctv_dstnc', 'fr_wthr_fclt_in_100m', 'cctv_in_100m',\n",
       "       'tbc_rtl_str_dstnc', 'sft_emrgnc_bll_dstnc', 'ahsm_dstnc',\n",
       "       'no_tbc_zn_dstnc', 'bldng_cnt_in_50m', 'trgt_crtr',\n",
       "       'fr_fghtng_fclt_spcl_css_5_yn', 'fr_fghtng_fclt_spcl_css_6_yn',\n",
       "       'us_yn', 'dngrs_thng_yn', 'slf_fr_brgd_yn',\n",
       "       'blk_dngrs_thng_mnfctr_yn', 'cltrl_hrtg_yn', 'fr_yn'], dtype=object)"
      ]
     },
     "execution_count": 6,
     "metadata": {},
     "output_type": "execute_result"
    }
   ],
   "source": [
    "val.columns.values"
   ]
  },
  {
   "cell_type": "code",
   "execution_count": 7,
   "metadata": {},
   "outputs": [
    {
     "data": {
      "text/plain": [
       "True"
      ]
     },
     "execution_count": 7,
     "metadata": {},
     "output_type": "execute_result"
    }
   ],
   "source": [
    "list(train.columns.values).sort() == list(val.columns.values).sort()"
   ]
  },
  {
   "cell_type": "code",
   "execution_count": 8,
   "metadata": {},
   "outputs": [
    {
     "data": {
      "text/plain": [
       "dt_of_fr                            0\n",
       "fr_yn                               0\n",
       "bldng_us                        27677\n",
       "bldng_archtctr                  27665\n",
       "bldng_cnt                           0\n",
       "bldng_ar                            0\n",
       "ttl_ar                              0\n",
       "lnd_ar                              0\n",
       "dt_of_athrztn                       0\n",
       "ttl_grnd_flr                    10210\n",
       "ttl_dwn_flr                     11005\n",
       "bldng_us_clssfctn               29343\n",
       "tmprtr                             13\n",
       "prcpttn                         53629\n",
       "wnd_spd                            33\n",
       "wnd_drctn                         221\n",
       "hmdt                               22\n",
       "gas_engry_us_201401             27581\n",
       "ele_engry_us_201401             27581\n",
       "gas_engry_us_201402             27581\n",
       "ele_engry_us_201402             27581\n",
       "gas_engry_us_201403             27581\n",
       "ele_engry_us_201403             27581\n",
       "gas_engry_us_201404             27581\n",
       "ele_engry_us_201404             27581\n",
       "gas_engry_us_201405             27581\n",
       "ele_engry_us_201405             27581\n",
       "gas_engry_us_201406             27581\n",
       "ele_engry_us_201406             27581\n",
       "gas_engry_us_201407             27581\n",
       "                                ...  \n",
       "lw_13141011                     58908\n",
       "jmk                                 0\n",
       "id                                  0\n",
       "rgnl_ar_nm                       1491\n",
       "rgnl_ar_nm2                      1491\n",
       "lnd_us_sttn_nm                   1776\n",
       "rd_sd_nm                         1491\n",
       "emd_nm                              4\n",
       "hm_cnt                            701\n",
       "fr_sttn_dstnc                       0\n",
       "bldng_ar_prc                    21895\n",
       "fr_wthr_fclt_dstnc                  0\n",
       "fr_mn_cnt                          41\n",
       "mlt_us_yn                           0\n",
       "cctv_dstnc                          0\n",
       "fr_wthr_fclt_in_100m                0\n",
       "cctv_in_100m                        0\n",
       "tbc_rtl_str_dstnc                   0\n",
       "sft_emrgnc_bll_dstnc                0\n",
       "ahsm_dstnc                          0\n",
       "no_tbc_zn_dstnc                     0\n",
       "bldng_cnt_in_50m                    0\n",
       "trgt_crtr                       51022\n",
       "fr_fghtng_fclt_spcl_css_5_yn    50762\n",
       "fr_fghtng_fclt_spcl_css_6_yn    50762\n",
       "us_yn                           49447\n",
       "dngrs_thng_yn                   49447\n",
       "slf_fr_brgd_yn                  49447\n",
       "blk_dngrs_thng_mnfctr_yn        49447\n",
       "cltrl_hrtg_yn                   49447\n",
       "Length: 180, dtype: int64"
      ]
     },
     "execution_count": 8,
     "metadata": {},
     "output_type": "execute_result"
    }
   ],
   "source": [
    "train.isna().sum()"
   ]
  },
  {
   "cell_type": "code",
   "execution_count": 9,
   "metadata": {},
   "outputs": [
    {
     "name": "stdout",
     "output_type": "stream",
     "text": [
      "<class 'pandas.core.frame.DataFrame'>\n",
      "RangeIndex: 59199 entries, 0 to 59198\n",
      "Data columns (total 180 columns):\n",
      "dt_of_fr                        object\n",
      "fr_yn                           object\n",
      "bldng_us                        object\n",
      "bldng_archtctr                  object\n",
      "bldng_cnt                       int64\n",
      "bldng_ar                        float64\n",
      "ttl_ar                          float64\n",
      "lnd_ar                          float64\n",
      "dt_of_athrztn                   object\n",
      "ttl_grnd_flr                    float64\n",
      "ttl_dwn_flr                     float64\n",
      "bldng_us_clssfctn               object\n",
      "tmprtr                          float64\n",
      "prcpttn                         float64\n",
      "wnd_spd                         float64\n",
      "wnd_drctn                       float64\n",
      "hmdt                            float64\n",
      "gas_engry_us_201401             float64\n",
      "ele_engry_us_201401             float64\n",
      "gas_engry_us_201402             float64\n",
      "ele_engry_us_201402             float64\n",
      "gas_engry_us_201403             float64\n",
      "ele_engry_us_201403             float64\n",
      "gas_engry_us_201404             float64\n",
      "ele_engry_us_201404             float64\n",
      "gas_engry_us_201405             float64\n",
      "ele_engry_us_201405             float64\n",
      "gas_engry_us_201406             float64\n",
      "ele_engry_us_201406             float64\n",
      "gas_engry_us_201407             float64\n",
      "ele_engry_us_201407             float64\n",
      "gas_engry_us_201408             float64\n",
      "ele_engry_us_201408             float64\n",
      "gas_engry_us_201409             float64\n",
      "ele_engry_us_201409             float64\n",
      "gas_engry_us_201410             float64\n",
      "ele_engry_us_201410             float64\n",
      "gas_engry_us_201411             float64\n",
      "ele_engry_us_201411             float64\n",
      "gas_engry_us_201412             float64\n",
      "ele_engry_us_201412             float64\n",
      "gas_engry_us_201501             float64\n",
      "ele_engry_us_201501             float64\n",
      "gas_engry_us_201502             float64\n",
      "ele_engry_us_201502             float64\n",
      "gas_engry_us_201503             float64\n",
      "ele_engry_us_201503             float64\n",
      "gas_engry_us_201504             float64\n",
      "ele_engry_us_201504             float64\n",
      "gas_engry_us_201505             float64\n",
      "ele_engry_us_201505             float64\n",
      "gas_engry_us_201506             float64\n",
      "ele_engry_us_201506             float64\n",
      "gas_engry_us_201507             float64\n",
      "ele_engry_us_201507             float64\n",
      "gas_engry_us_201508             float64\n",
      "ele_engry_us_201508             float64\n",
      "gas_engry_us_201509             float64\n",
      "ele_engry_us_201509             float64\n",
      "gas_engry_us_201510             float64\n",
      "ele_engry_us_201510             float64\n",
      "gas_engry_us_201511             float64\n",
      "ele_engry_us_201511             float64\n",
      "gas_engry_us_201512             float64\n",
      "ele_engry_us_201512             float64\n",
      "gas_engry_us_201601             float64\n",
      "ele_engry_us_201601             float64\n",
      "gas_engry_us_201602             float64\n",
      "ele_engry_us_201602             float64\n",
      "gas_engry_us_201603             float64\n",
      "ele_engry_us_201603             float64\n",
      "gas_engry_us_201604             float64\n",
      "ele_engry_us_201604             float64\n",
      "gas_engry_us_201605             float64\n",
      "ele_engry_us_201605             float64\n",
      "gas_engry_us_201606             float64\n",
      "ele_engry_us_201606             float64\n",
      "gas_engry_us_201607             float64\n",
      "ele_engry_us_201607             float64\n",
      "gas_engry_us_201608             float64\n",
      "ele_engry_us_201608             float64\n",
      "gas_engry_us_201609             float64\n",
      "ele_engry_us_201609             float64\n",
      "gas_engry_us_201610             float64\n",
      "ele_engry_us_201610             float64\n",
      "gas_engry_us_201611             float64\n",
      "ele_engry_us_201611             float64\n",
      "gas_engry_us_201612             float64\n",
      "ele_engry_us_201612             float64\n",
      "gas_engry_us_201701             float64\n",
      "ele_engry_us_201701             float64\n",
      "gas_engry_us_201702             float64\n",
      "ele_engry_us_201702             float64\n",
      "gas_engry_us_201703             float64\n",
      "ele_engry_us_201703             float64\n",
      "gas_engry_us_201704             float64\n",
      "ele_engry_us_201704             float64\n",
      "gas_engry_us_201705             float64\n",
      "ele_engry_us_201705             float64\n",
      "gas_engry_us_201706             float64\n",
      "ele_engry_us_201706             float64\n",
      "gas_engry_us_201707             float64\n",
      "ele_engry_us_201707             float64\n",
      "gas_engry_us_201708             float64\n",
      "ele_engry_us_201708             float64\n",
      "gas_engry_us_201709             float64\n",
      "ele_engry_us_201709             float64\n",
      "gas_engry_us_201710             float64\n",
      "ele_engry_us_201710             float64\n",
      "gas_engry_us_201711             float64\n",
      "ele_engry_us_201711             float64\n",
      "gas_engry_us_201712             float64\n",
      "ele_engry_us_201712             float64\n",
      "gas_engry_us_201801             float64\n",
      "ele_engry_us_201801             float64\n",
      "gas_engry_us_201802             float64\n",
      "ele_engry_us_201802             float64\n",
      "gas_engry_us_201803             float64\n",
      "ele_engry_us_201803             float64\n",
      "gas_engry_us_201804             float64\n",
      "ele_engry_us_201804             float64\n",
      "gas_engry_us_201805             float64\n",
      "ele_engry_us_201805             float64\n",
      "gas_engry_us_201806             float64\n",
      "ele_engry_us_201806             float64\n",
      "gas_engry_us_201807             float64\n",
      "ele_engry_us_201807             float64\n",
      "gas_engry_us_201808             float64\n",
      "ele_engry_us_201808             float64\n",
      "gas_engry_us_201809             float64\n",
      "ele_engry_us_201809             float64\n",
      "gas_engry_us_201810             float64\n",
      "ele_engry_us_201810             float64\n",
      "gas_engry_us_201811             float64\n",
      "ele_engry_us_201811             float64\n",
      "gas_engry_us_201812             float64\n",
      "ele_engry_us_201812             float64\n",
      "lw_13101010                     float64\n",
      "lw_13101110                     float64\n",
      "lw_13101210                     float64\n",
      "lw_13101211                     float64\n",
      "lw_13101310                     float64\n",
      "lw_13101410                     float64\n",
      "lw_13111010                     float64\n",
      "lw_13111110                     float64\n",
      "lw_13121010                     float64\n",
      "lw_13121011                     float64\n",
      "lw_13131010                     float64\n",
      "lw_13131110                     float64\n",
      "lw_13141010                     float64\n",
      "lw_13141011                     float64\n",
      "jmk                             object\n",
      "id                              int64\n",
      "rgnl_ar_nm                      object\n",
      "rgnl_ar_nm2                     object\n",
      "lnd_us_sttn_nm                  object\n",
      "rd_sd_nm                        object\n",
      "emd_nm                          object\n",
      "hm_cnt                          float64\n",
      "fr_sttn_dstnc                   int64\n",
      "bldng_ar_prc                    float64\n",
      "fr_wthr_fclt_dstnc              int64\n",
      "fr_mn_cnt                       float64\n",
      "mlt_us_yn                       object\n",
      "cctv_dstnc                      int64\n",
      "fr_wthr_fclt_in_100m            int64\n",
      "cctv_in_100m                    int64\n",
      "tbc_rtl_str_dstnc               int64\n",
      "sft_emrgnc_bll_dstnc            int64\n",
      "ahsm_dstnc                      int64\n",
      "no_tbc_zn_dstnc                 int64\n",
      "bldng_cnt_in_50m                int64\n",
      "trgt_crtr                       object\n",
      "fr_fghtng_fclt_spcl_css_5_yn    object\n",
      "fr_fghtng_fclt_spcl_css_6_yn    object\n",
      "us_yn                           object\n",
      "dngrs_thng_yn                   object\n",
      "slf_fr_brgd_yn                  object\n",
      "blk_dngrs_thng_mnfctr_yn        object\n",
      "cltrl_hrtg_yn                   object\n",
      "dtypes: float64(147), int64(12), object(21)\n",
      "memory usage: 81.3+ MB\n"
     ]
    }
   ],
   "source": [
    "train.info(True)"
   ]
  },
  {
   "cell_type": "code",
   "execution_count": 10,
   "metadata": {},
   "outputs": [],
   "source": [
    "binary_y = {'N': 0, 'Y': 1}\n",
    "\n",
    "train['fr_yn'] = train['fr_yn'].map(binary_y)\n",
    "val['fr_yn'] = val['fr_yn'].map(binary_y)"
   ]
  },
  {
   "cell_type": "code",
   "execution_count": null,
   "metadata": {},
   "outputs": [],
   "source": []
  },
  {
   "cell_type": "markdown",
   "metadata": {},
   "source": [
    "# Preprocessing"
   ]
  },
  {
   "cell_type": "markdown",
   "metadata": {},
   "source": [
    "## Part 1"
   ]
  },
  {
   "cell_type": "markdown",
   "metadata": {},
   "source": [
    "### bldng_us 건물용도"
   ]
  },
  {
   "cell_type": "code",
   "execution_count": 11,
   "metadata": {},
   "outputs": [
    {
     "data": {
      "text/plain": [
       "0    단독주택\n",
       "1     NaN\n",
       "2    공동주택\n",
       "3    단독주택\n",
       "4     NaN\n",
       "Name: bldng_us, dtype: object"
      ]
     },
     "execution_count": 11,
     "metadata": {},
     "output_type": "execute_result"
    }
   ],
   "source": [
    "train[\"bldng_us\"].head()"
   ]
  },
  {
   "cell_type": "code",
   "execution_count": 12,
   "metadata": {
    "scrolled": true
   },
   "outputs": [
    {
     "data": {
      "text/plain": [
       "array(['단독주택', nan, '공동주택', '종교시설', '공장', '제1종근린생활시설', '숙박시설',\n",
       "       '동.식물 관련시설', '창고시설', '제2종근린생활시설', '문화및집회시설', '자동차관련시설', '업무시설',\n",
       "       '판매시설', '교육연구시설', '분뇨.쓰레기처리시설', '수련시설', '의료시설', '노유자시설', '운동시설',\n",
       "       '위락시설', '위험물저장및처리시설', '공공용시설', '교정및군사시설', '교육연구및복지시설', '장례식장',\n",
       "       '운수시설', '관광휴게시설', '근린생활시설', '시장', '방송통신시설', '묘지관련시설', '발전시설',\n",
       "       '판매및영업시설', '파출소'], dtype=object)"
      ]
     },
     "execution_count": 12,
     "metadata": {},
     "output_type": "execute_result"
    }
   ],
   "source": [
    "train[\"bldng_us\"].unique()"
   ]
  },
  {
   "cell_type": "code",
   "execution_count": 13,
   "metadata": {},
   "outputs": [
    {
     "data": {
      "text/plain": [
       "array([nan, '공장', '단독주택', '공동주택', '제1종근린생활시설', '의료시설', '제2종근린생활시설',\n",
       "       '동.식물 관련시설', '위험물저장및처리시설', '창고시설', '교육연구시설', '노유자시설', '숙박시설',\n",
       "       '문화및집회시설', '분뇨.쓰레기처리시설', '자동차관련시설', '업무시설', '근린생활시설', '위락시설',\n",
       "       '종교시설', '판매시설', '관광휴게시설', '운동시설'], dtype=object)"
      ]
     },
     "execution_count": 13,
     "metadata": {},
     "output_type": "execute_result"
    }
   ],
   "source": [
    "test[\"bldng_us\"].unique()"
   ]
  },
  {
   "cell_type": "code",
   "execution_count": 14,
   "metadata": {},
   "outputs": [
    {
     "data": {
      "text/plain": [
       "(27677, 180)"
      ]
     },
     "execution_count": 14,
     "metadata": {},
     "output_type": "execute_result"
    }
   ],
   "source": [
    "train[train[\"bldng_us\"].isnull()].shape"
   ]
  },
  {
   "cell_type": "code",
   "execution_count": 15,
   "metadata": {},
   "outputs": [
    {
     "data": {
      "text/plain": [
       "(469, 180)"
      ]
     },
     "execution_count": 15,
     "metadata": {},
     "output_type": "execute_result"
    }
   ],
   "source": [
    "test[test[\"bldng_us\"].isnull()].shape"
   ]
  },
  {
   "cell_type": "code",
   "execution_count": 16,
   "metadata": {},
   "outputs": [
    {
     "data": {
      "text/plain": [
       "단독주택          20232\n",
       "제1종근린생활시설      2350\n",
       "제2종근린생활시설      2262\n",
       "창고시설           1513\n",
       "동.식물 관련시설      1467\n",
       "공장             1179\n",
       "공동주택            941\n",
       "숙박시설            262\n",
       "노유자시설           205\n",
       "교육연구시설          185\n",
       "종교시설            161\n",
       "업무시설            131\n",
       "자동차관련시설         119\n",
       "위험물저장및처리시설      115\n",
       "분뇨.쓰레기처리시설       55\n",
       "판매시설             52\n",
       "운동시설             42\n",
       "문화및집회시설          38\n",
       "위락시설             35\n",
       "근린생활시설           31\n",
       "관광휴게시설           30\n",
       "의료시설             27\n",
       "교육연구및복지시설        18\n",
       "수련시설             15\n",
       "운수시설             12\n",
       "발전시설             11\n",
       "방송통신시설           11\n",
       "묘지관련시설            9\n",
       "교정및군사시설           7\n",
       "장례식장              3\n",
       "판매및영업시설           1\n",
       "시장                1\n",
       "공공용시설             1\n",
       "파출소               1\n",
       "dtype: int64"
      ]
     },
     "execution_count": 16,
     "metadata": {},
     "output_type": "execute_result"
    }
   ],
   "source": [
    "pd.value_counts(train[\"bldng_us\"].values.flatten())"
   ]
  },
  {
   "cell_type": "code",
   "execution_count": 17,
   "metadata": {},
   "outputs": [
    {
     "data": {
      "text/plain": [
       "단독주택          1150\n",
       "공장             421\n",
       "제2종근린생활시설      285\n",
       "제1종근린생활시설      181\n",
       "공동주택           176\n",
       "동.식물 관련시설       76\n",
       "창고시설            58\n",
       "자동차관련시설         23\n",
       "위험물저장및처리시설      18\n",
       "교육연구시설          17\n",
       "노유자시설           16\n",
       "숙박시설            15\n",
       "분뇨.쓰레기처리시설      10\n",
       "위락시설             9\n",
       "업무시설             9\n",
       "종교시설             8\n",
       "판매시설             5\n",
       "운동시설             4\n",
       "의료시설             3\n",
       "관광휴게시설           2\n",
       "문화및집회시설          1\n",
       "근린생활시설           1\n",
       "dtype: int64"
      ]
     },
     "execution_count": 17,
     "metadata": {},
     "output_type": "execute_result"
    }
   ],
   "source": [
    "pd.value_counts(test[\"bldng_us\"].values.flatten())"
   ]
  },
  {
   "cell_type": "code",
   "execution_count": 18,
   "metadata": {},
   "outputs": [
    {
     "data": {
      "text/html": [
       "<div>\n",
       "<style scoped>\n",
       "    .dataframe tbody tr th:only-of-type {\n",
       "        vertical-align: middle;\n",
       "    }\n",
       "\n",
       "    .dataframe tbody tr th {\n",
       "        vertical-align: top;\n",
       "    }\n",
       "\n",
       "    .dataframe thead th {\n",
       "        text-align: right;\n",
       "    }\n",
       "</style>\n",
       "<table border=\"1\" class=\"dataframe\">\n",
       "  <thead>\n",
       "    <tr style=\"text-align: right;\">\n",
       "      <th></th>\n",
       "      <th>fr_yn</th>\n",
       "    </tr>\n",
       "    <tr>\n",
       "      <th>bldng_us</th>\n",
       "      <th></th>\n",
       "    </tr>\n",
       "  </thead>\n",
       "  <tbody>\n",
       "    <tr>\n",
       "      <th>공공용시설</th>\n",
       "      <td>0.000000</td>\n",
       "    </tr>\n",
       "    <tr>\n",
       "      <th>공동주택</th>\n",
       "      <td>0.619554</td>\n",
       "    </tr>\n",
       "    <tr>\n",
       "      <th>공장</th>\n",
       "      <td>0.553011</td>\n",
       "    </tr>\n",
       "    <tr>\n",
       "      <th>관광휴게시설</th>\n",
       "      <td>0.700000</td>\n",
       "    </tr>\n",
       "    <tr>\n",
       "      <th>교육연구및복지시설</th>\n",
       "      <td>0.333333</td>\n",
       "    </tr>\n",
       "    <tr>\n",
       "      <th>교육연구시설</th>\n",
       "      <td>0.508108</td>\n",
       "    </tr>\n",
       "    <tr>\n",
       "      <th>교정및군사시설</th>\n",
       "      <td>0.428571</td>\n",
       "    </tr>\n",
       "    <tr>\n",
       "      <th>근린생활시설</th>\n",
       "      <td>0.258065</td>\n",
       "    </tr>\n",
       "    <tr>\n",
       "      <th>노유자시설</th>\n",
       "      <td>0.248780</td>\n",
       "    </tr>\n",
       "    <tr>\n",
       "      <th>단독주택</th>\n",
       "      <td>0.174130</td>\n",
       "    </tr>\n",
       "    <tr>\n",
       "      <th>동.식물 관련시설</th>\n",
       "      <td>0.250852</td>\n",
       "    </tr>\n",
       "    <tr>\n",
       "      <th>묘지관련시설</th>\n",
       "      <td>0.444444</td>\n",
       "    </tr>\n",
       "    <tr>\n",
       "      <th>문화및집회시설</th>\n",
       "      <td>0.421053</td>\n",
       "    </tr>\n",
       "    <tr>\n",
       "      <th>발전시설</th>\n",
       "      <td>0.181818</td>\n",
       "    </tr>\n",
       "    <tr>\n",
       "      <th>방송통신시설</th>\n",
       "      <td>0.454545</td>\n",
       "    </tr>\n",
       "    <tr>\n",
       "      <th>분뇨.쓰레기처리시설</th>\n",
       "      <td>0.618182</td>\n",
       "    </tr>\n",
       "    <tr>\n",
       "      <th>수련시설</th>\n",
       "      <td>0.600000</td>\n",
       "    </tr>\n",
       "    <tr>\n",
       "      <th>숙박시설</th>\n",
       "      <td>0.427481</td>\n",
       "    </tr>\n",
       "    <tr>\n",
       "      <th>시장</th>\n",
       "      <td>0.000000</td>\n",
       "    </tr>\n",
       "    <tr>\n",
       "      <th>업무시설</th>\n",
       "      <td>0.541985</td>\n",
       "    </tr>\n",
       "    <tr>\n",
       "      <th>운동시설</th>\n",
       "      <td>0.523810</td>\n",
       "    </tr>\n",
       "    <tr>\n",
       "      <th>운수시설</th>\n",
       "      <td>0.500000</td>\n",
       "    </tr>\n",
       "    <tr>\n",
       "      <th>위락시설</th>\n",
       "      <td>0.457143</td>\n",
       "    </tr>\n",
       "    <tr>\n",
       "      <th>위험물저장및처리시설</th>\n",
       "      <td>0.278261</td>\n",
       "    </tr>\n",
       "    <tr>\n",
       "      <th>의료시설</th>\n",
       "      <td>0.666667</td>\n",
       "    </tr>\n",
       "    <tr>\n",
       "      <th>자동차관련시설</th>\n",
       "      <td>0.563025</td>\n",
       "    </tr>\n",
       "    <tr>\n",
       "      <th>장례식장</th>\n",
       "      <td>0.666667</td>\n",
       "    </tr>\n",
       "    <tr>\n",
       "      <th>제1종근린생활시설</th>\n",
       "      <td>0.311064</td>\n",
       "    </tr>\n",
       "    <tr>\n",
       "      <th>제2종근린생활시설</th>\n",
       "      <td>0.343501</td>\n",
       "    </tr>\n",
       "    <tr>\n",
       "      <th>종교시설</th>\n",
       "      <td>0.273292</td>\n",
       "    </tr>\n",
       "    <tr>\n",
       "      <th>창고시설</th>\n",
       "      <td>0.208857</td>\n",
       "    </tr>\n",
       "    <tr>\n",
       "      <th>파출소</th>\n",
       "      <td>0.000000</td>\n",
       "    </tr>\n",
       "    <tr>\n",
       "      <th>판매및영업시설</th>\n",
       "      <td>0.000000</td>\n",
       "    </tr>\n",
       "    <tr>\n",
       "      <th>판매시설</th>\n",
       "      <td>0.653846</td>\n",
       "    </tr>\n",
       "  </tbody>\n",
       "</table>\n",
       "</div>"
      ],
      "text/plain": [
       "               fr_yn\n",
       "bldng_us            \n",
       "공공용시설       0.000000\n",
       "공동주택        0.619554\n",
       "공장          0.553011\n",
       "관광휴게시설      0.700000\n",
       "교육연구및복지시설   0.333333\n",
       "교육연구시설      0.508108\n",
       "교정및군사시설     0.428571\n",
       "근린생활시설      0.258065\n",
       "노유자시설       0.248780\n",
       "단독주택        0.174130\n",
       "동.식물 관련시설   0.250852\n",
       "묘지관련시설      0.444444\n",
       "문화및집회시설     0.421053\n",
       "발전시설        0.181818\n",
       "방송통신시설      0.454545\n",
       "분뇨.쓰레기처리시설  0.618182\n",
       "수련시설        0.600000\n",
       "숙박시설        0.427481\n",
       "시장          0.000000\n",
       "업무시설        0.541985\n",
       "운동시설        0.523810\n",
       "운수시설        0.500000\n",
       "위락시설        0.457143\n",
       "위험물저장및처리시설  0.278261\n",
       "의료시설        0.666667\n",
       "자동차관련시설     0.563025\n",
       "장례식장        0.666667\n",
       "제1종근린생활시설   0.311064\n",
       "제2종근린생활시설   0.343501\n",
       "종교시설        0.273292\n",
       "창고시설        0.208857\n",
       "파출소         0.000000\n",
       "판매및영업시설     0.000000\n",
       "판매시설        0.653846"
      ]
     },
     "execution_count": 18,
     "metadata": {},
     "output_type": "execute_result"
    }
   ],
   "source": [
    "pd.pivot_table(train, index=\"bldng_us\", values=\"fr_yn\")"
   ]
  },
  {
   "cell_type": "code",
   "execution_count": 19,
   "metadata": {},
   "outputs": [
    {
     "data": {
      "text/plain": [
       "벽돌구조           6362\n",
       "일반목구조          6325\n",
       "블록구조           3107\n",
       "철근콘크리트구조       2383\n",
       "경량철골구조         1302\n",
       "조적구조            359\n",
       "일반철골구조          136\n",
       "기타조적구조          120\n",
       "석구조              41\n",
       "기타구조             22\n",
       "강파이프구조           17\n",
       "기타강구조            15\n",
       "목구조              14\n",
       "통나무구조             9\n",
       "철골콘크리트구조          7\n",
       "프리케스트콘크리트구조       5\n",
       "기타콘크리트구조          1\n",
       "dtype: int64"
      ]
     },
     "execution_count": 19,
     "metadata": {},
     "output_type": "execute_result"
    }
   ],
   "source": [
    "pd.value_counts(train[train[\"bldng_us\"]=='단독주택'][\"bldng_archtctr\"].values.flatten())"
   ]
  },
  {
   "cell_type": "code",
   "execution_count": null,
   "metadata": {},
   "outputs": [],
   "source": []
  },
  {
   "cell_type": "code",
   "execution_count": null,
   "metadata": {},
   "outputs": [],
   "source": []
  },
  {
   "cell_type": "code",
   "execution_count": null,
   "metadata": {},
   "outputs": [],
   "source": []
  },
  {
   "cell_type": "code",
   "execution_count": null,
   "metadata": {},
   "outputs": [],
   "source": []
  },
  {
   "cell_type": "code",
   "execution_count": 20,
   "metadata": {},
   "outputs": [],
   "source": [
    "#bldng_us_columns = set(train[\"bldng_us\"].unique()).intersection(set(test[\"bldng_us\"].unique())).intersection(set(val[\"bldng_us\"].unique()))"
   ]
  },
  {
   "cell_type": "code",
   "execution_count": null,
   "metadata": {},
   "outputs": [],
   "source": []
  },
  {
   "cell_type": "code",
   "execution_count": 21,
   "metadata": {},
   "outputs": [],
   "source": [
    "#bldng_us_columns = list(train[\"bldng_us\"].unique())\n",
    "\n",
    "#for b in bldng_us_columns:\n",
    "#    if (train[\"bldng_us\"].values == b).sum() < 150:\n",
    "#        train.loc[train[\"bldng_us\"].values == b, \"bldng_us\"] = None\n",
    "#        val.loc[val[\"bldng_us\"].values == b, \"bldng_us\"] = None\n",
    "#        test.loc[test[\"bldng_us\"].values == b, \"bldng_us\"] = None"
   ]
  },
  {
   "cell_type": "code",
   "execution_count": 22,
   "metadata": {},
   "outputs": [
    {
     "data": {
      "text/plain": [
       "단독주택          20232\n",
       "제1종근린생활시설      2350\n",
       "제2종근린생활시설      2262\n",
       "창고시설           1513\n",
       "동.식물 관련시설      1467\n",
       "공장             1179\n",
       "공동주택            941\n",
       "숙박시설            262\n",
       "노유자시설           205\n",
       "교육연구시설          185\n",
       "종교시설            161\n",
       "업무시설            131\n",
       "자동차관련시설         119\n",
       "위험물저장및처리시설      115\n",
       "분뇨.쓰레기처리시설       55\n",
       "판매시설             52\n",
       "운동시설             42\n",
       "문화및집회시설          38\n",
       "위락시설             35\n",
       "근린생활시설           31\n",
       "관광휴게시설           30\n",
       "의료시설             27\n",
       "교육연구및복지시설        18\n",
       "수련시설             15\n",
       "운수시설             12\n",
       "발전시설             11\n",
       "방송통신시설           11\n",
       "묘지관련시설            9\n",
       "교정및군사시설           7\n",
       "장례식장              3\n",
       "판매및영업시설           1\n",
       "시장                1\n",
       "공공용시설             1\n",
       "파출소               1\n",
       "Name: bldng_us, dtype: int64"
      ]
     },
     "execution_count": 22,
     "metadata": {},
     "output_type": "execute_result"
    }
   ],
   "source": [
    "train[\"bldng_us\"].value_counts()"
   ]
  },
  {
   "cell_type": "code",
   "execution_count": 23,
   "metadata": {},
   "outputs": [
    {
     "data": {
      "text/html": [
       "<div>\n",
       "<style scoped>\n",
       "    .dataframe tbody tr th:only-of-type {\n",
       "        vertical-align: middle;\n",
       "    }\n",
       "\n",
       "    .dataframe tbody tr th {\n",
       "        vertical-align: top;\n",
       "    }\n",
       "\n",
       "    .dataframe thead th {\n",
       "        text-align: right;\n",
       "    }\n",
       "</style>\n",
       "<table border=\"1\" class=\"dataframe\">\n",
       "  <thead>\n",
       "    <tr style=\"text-align: right;\">\n",
       "      <th></th>\n",
       "      <th>fr_yn</th>\n",
       "    </tr>\n",
       "    <tr>\n",
       "      <th>bldng_us</th>\n",
       "      <th></th>\n",
       "    </tr>\n",
       "  </thead>\n",
       "  <tbody>\n",
       "    <tr>\n",
       "      <th>공공용시설</th>\n",
       "      <td>0.000000</td>\n",
       "    </tr>\n",
       "    <tr>\n",
       "      <th>공동주택</th>\n",
       "      <td>0.619554</td>\n",
       "    </tr>\n",
       "    <tr>\n",
       "      <th>공장</th>\n",
       "      <td>0.553011</td>\n",
       "    </tr>\n",
       "    <tr>\n",
       "      <th>관광휴게시설</th>\n",
       "      <td>0.700000</td>\n",
       "    </tr>\n",
       "    <tr>\n",
       "      <th>교육연구및복지시설</th>\n",
       "      <td>0.333333</td>\n",
       "    </tr>\n",
       "    <tr>\n",
       "      <th>교육연구시설</th>\n",
       "      <td>0.508108</td>\n",
       "    </tr>\n",
       "    <tr>\n",
       "      <th>교정및군사시설</th>\n",
       "      <td>0.428571</td>\n",
       "    </tr>\n",
       "    <tr>\n",
       "      <th>근린생활시설</th>\n",
       "      <td>0.258065</td>\n",
       "    </tr>\n",
       "    <tr>\n",
       "      <th>노유자시설</th>\n",
       "      <td>0.248780</td>\n",
       "    </tr>\n",
       "    <tr>\n",
       "      <th>단독주택</th>\n",
       "      <td>0.174130</td>\n",
       "    </tr>\n",
       "    <tr>\n",
       "      <th>동.식물 관련시설</th>\n",
       "      <td>0.250852</td>\n",
       "    </tr>\n",
       "    <tr>\n",
       "      <th>묘지관련시설</th>\n",
       "      <td>0.444444</td>\n",
       "    </tr>\n",
       "    <tr>\n",
       "      <th>문화및집회시설</th>\n",
       "      <td>0.421053</td>\n",
       "    </tr>\n",
       "    <tr>\n",
       "      <th>발전시설</th>\n",
       "      <td>0.181818</td>\n",
       "    </tr>\n",
       "    <tr>\n",
       "      <th>방송통신시설</th>\n",
       "      <td>0.454545</td>\n",
       "    </tr>\n",
       "    <tr>\n",
       "      <th>분뇨.쓰레기처리시설</th>\n",
       "      <td>0.618182</td>\n",
       "    </tr>\n",
       "    <tr>\n",
       "      <th>수련시설</th>\n",
       "      <td>0.600000</td>\n",
       "    </tr>\n",
       "    <tr>\n",
       "      <th>숙박시설</th>\n",
       "      <td>0.427481</td>\n",
       "    </tr>\n",
       "    <tr>\n",
       "      <th>시장</th>\n",
       "      <td>0.000000</td>\n",
       "    </tr>\n",
       "    <tr>\n",
       "      <th>업무시설</th>\n",
       "      <td>0.541985</td>\n",
       "    </tr>\n",
       "    <tr>\n",
       "      <th>운동시설</th>\n",
       "      <td>0.523810</td>\n",
       "    </tr>\n",
       "    <tr>\n",
       "      <th>운수시설</th>\n",
       "      <td>0.500000</td>\n",
       "    </tr>\n",
       "    <tr>\n",
       "      <th>위락시설</th>\n",
       "      <td>0.457143</td>\n",
       "    </tr>\n",
       "    <tr>\n",
       "      <th>위험물저장및처리시설</th>\n",
       "      <td>0.278261</td>\n",
       "    </tr>\n",
       "    <tr>\n",
       "      <th>의료시설</th>\n",
       "      <td>0.666667</td>\n",
       "    </tr>\n",
       "    <tr>\n",
       "      <th>자동차관련시설</th>\n",
       "      <td>0.563025</td>\n",
       "    </tr>\n",
       "    <tr>\n",
       "      <th>장례식장</th>\n",
       "      <td>0.666667</td>\n",
       "    </tr>\n",
       "    <tr>\n",
       "      <th>제1종근린생활시설</th>\n",
       "      <td>0.311064</td>\n",
       "    </tr>\n",
       "    <tr>\n",
       "      <th>제2종근린생활시설</th>\n",
       "      <td>0.343501</td>\n",
       "    </tr>\n",
       "    <tr>\n",
       "      <th>종교시설</th>\n",
       "      <td>0.273292</td>\n",
       "    </tr>\n",
       "    <tr>\n",
       "      <th>창고시설</th>\n",
       "      <td>0.208857</td>\n",
       "    </tr>\n",
       "    <tr>\n",
       "      <th>파출소</th>\n",
       "      <td>0.000000</td>\n",
       "    </tr>\n",
       "    <tr>\n",
       "      <th>판매및영업시설</th>\n",
       "      <td>0.000000</td>\n",
       "    </tr>\n",
       "    <tr>\n",
       "      <th>판매시설</th>\n",
       "      <td>0.653846</td>\n",
       "    </tr>\n",
       "  </tbody>\n",
       "</table>\n",
       "</div>"
      ],
      "text/plain": [
       "               fr_yn\n",
       "bldng_us            \n",
       "공공용시설       0.000000\n",
       "공동주택        0.619554\n",
       "공장          0.553011\n",
       "관광휴게시설      0.700000\n",
       "교육연구및복지시설   0.333333\n",
       "교육연구시설      0.508108\n",
       "교정및군사시설     0.428571\n",
       "근린생활시설      0.258065\n",
       "노유자시설       0.248780\n",
       "단독주택        0.174130\n",
       "동.식물 관련시설   0.250852\n",
       "묘지관련시설      0.444444\n",
       "문화및집회시설     0.421053\n",
       "발전시설        0.181818\n",
       "방송통신시설      0.454545\n",
       "분뇨.쓰레기처리시설  0.618182\n",
       "수련시설        0.600000\n",
       "숙박시설        0.427481\n",
       "시장          0.000000\n",
       "업무시설        0.541985\n",
       "운동시설        0.523810\n",
       "운수시설        0.500000\n",
       "위락시설        0.457143\n",
       "위험물저장및처리시설  0.278261\n",
       "의료시설        0.666667\n",
       "자동차관련시설     0.563025\n",
       "장례식장        0.666667\n",
       "제1종근린생활시설   0.311064\n",
       "제2종근린생활시설   0.343501\n",
       "종교시설        0.273292\n",
       "창고시설        0.208857\n",
       "파출소         0.000000\n",
       "판매및영업시설     0.000000\n",
       "판매시설        0.653846"
      ]
     },
     "execution_count": 23,
     "metadata": {},
     "output_type": "execute_result"
    }
   ],
   "source": [
    "pd.pivot_table(train, index=\"bldng_us\", values=\"fr_yn\")"
   ]
  },
  {
   "cell_type": "code",
   "execution_count": 24,
   "metadata": {},
   "outputs": [],
   "source": [
    "# 근린생활시설은 1종,2종 간 용도 차이가 너무 커 제외한다. (val로 검증 완료)\n",
    "\n",
    "train.loc[train[\"bldng_us\"].values == \"제1종근린생활시설\", \"bldng_us\"] = None\n",
    "train.loc[train[\"bldng_us\"].values == \"제2종근린생활시설\", \"bldng_us\"] = None\n",
    "\n",
    "\n",
    "val.loc[val[\"bldng_us\"].values == \"제1종근린생활시설\", \"bldng_us\"] = None\n",
    "val.loc[val[\"bldng_us\"].values == \"제2종근린생활시설\", \"bldng_us\"] = None\n",
    "\n",
    "\n",
    "test.loc[test[\"bldng_us\"].values == \"제1종근린생활시설\", \"bldng_us\"] = None\n",
    "test.loc[test[\"bldng_us\"].values == \"제2종근린생활시설\", \"bldng_us\"] = None\n"
   ]
  },
  {
   "cell_type": "code",
   "execution_count": 25,
   "metadata": {},
   "outputs": [],
   "source": [
    "one_hot_bldng_us = pd.get_dummies(train[\"bldng_us\"])\n",
    "train = train.join(one_hot_bldng_us)\n",
    "\n",
    "one_hot_bldng_us = pd.get_dummies(val[\"bldng_us\"])\n",
    "val = val.join(one_hot_bldng_us)\n",
    "\n",
    "one_hot_bldng_us = pd.get_dummies(test[\"bldng_us\"])\n",
    "test = test.join(one_hot_bldng_us)"
   ]
  },
  {
   "cell_type": "code",
   "execution_count": 26,
   "metadata": {},
   "outputs": [],
   "source": [
    "#원랜해야하는데 하니까 점수 더 내려감..\n",
    "#train = train.drop(\"bldng_us\", 1)\n",
    "#val = val.drop(\"bldng_us\", 1)\n",
    "#test = test.drop(\"bldng_us\", 1)"
   ]
  },
  {
   "cell_type": "code",
   "execution_count": null,
   "metadata": {},
   "outputs": [],
   "source": []
  },
  {
   "cell_type": "code",
   "execution_count": null,
   "metadata": {},
   "outputs": [],
   "source": []
  },
  {
   "cell_type": "code",
   "execution_count": 27,
   "metadata": {},
   "outputs": [
    {
     "data": {
      "text/plain": [
       "array(['dt_of_fr', 'fr_yn', 'bldng_us', 'bldng_archtctr', 'bldng_cnt',\n",
       "       'bldng_ar', 'ttl_ar', 'lnd_ar', 'dt_of_athrztn', 'ttl_grnd_flr',\n",
       "       'ttl_dwn_flr', 'bldng_us_clssfctn', 'tmprtr', 'prcpttn', 'wnd_spd',\n",
       "       'wnd_drctn', 'hmdt', 'gas_engry_us_201401', 'ele_engry_us_201401',\n",
       "       'gas_engry_us_201402', 'ele_engry_us_201402',\n",
       "       'gas_engry_us_201403', 'ele_engry_us_201403',\n",
       "       'gas_engry_us_201404', 'ele_engry_us_201404',\n",
       "       'gas_engry_us_201405', 'ele_engry_us_201405',\n",
       "       'gas_engry_us_201406', 'ele_engry_us_201406',\n",
       "       'gas_engry_us_201407', 'ele_engry_us_201407',\n",
       "       'gas_engry_us_201408', 'ele_engry_us_201408',\n",
       "       'gas_engry_us_201409', 'ele_engry_us_201409',\n",
       "       'gas_engry_us_201410', 'ele_engry_us_201410',\n",
       "       'gas_engry_us_201411', 'ele_engry_us_201411',\n",
       "       'gas_engry_us_201412', 'ele_engry_us_201412',\n",
       "       'gas_engry_us_201501', 'ele_engry_us_201501',\n",
       "       'gas_engry_us_201502', 'ele_engry_us_201502',\n",
       "       'gas_engry_us_201503', 'ele_engry_us_201503',\n",
       "       'gas_engry_us_201504', 'ele_engry_us_201504',\n",
       "       'gas_engry_us_201505', 'ele_engry_us_201505',\n",
       "       'gas_engry_us_201506', 'ele_engry_us_201506',\n",
       "       'gas_engry_us_201507', 'ele_engry_us_201507',\n",
       "       'gas_engry_us_201508', 'ele_engry_us_201508',\n",
       "       'gas_engry_us_201509', 'ele_engry_us_201509',\n",
       "       'gas_engry_us_201510', 'ele_engry_us_201510',\n",
       "       'gas_engry_us_201511', 'ele_engry_us_201511',\n",
       "       'gas_engry_us_201512', 'ele_engry_us_201512',\n",
       "       'gas_engry_us_201601', 'ele_engry_us_201601',\n",
       "       'gas_engry_us_201602', 'ele_engry_us_201602',\n",
       "       'gas_engry_us_201603', 'ele_engry_us_201603',\n",
       "       'gas_engry_us_201604', 'ele_engry_us_201604',\n",
       "       'gas_engry_us_201605', 'ele_engry_us_201605',\n",
       "       'gas_engry_us_201606', 'ele_engry_us_201606',\n",
       "       'gas_engry_us_201607', 'ele_engry_us_201607',\n",
       "       'gas_engry_us_201608', 'ele_engry_us_201608',\n",
       "       'gas_engry_us_201609', 'ele_engry_us_201609',\n",
       "       'gas_engry_us_201610', 'ele_engry_us_201610',\n",
       "       'gas_engry_us_201611', 'ele_engry_us_201611',\n",
       "       'gas_engry_us_201612', 'ele_engry_us_201612',\n",
       "       'gas_engry_us_201701', 'ele_engry_us_201701',\n",
       "       'gas_engry_us_201702', 'ele_engry_us_201702',\n",
       "       'gas_engry_us_201703', 'ele_engry_us_201703',\n",
       "       'gas_engry_us_201704', 'ele_engry_us_201704',\n",
       "       'gas_engry_us_201705', 'ele_engry_us_201705',\n",
       "       'gas_engry_us_201706', 'ele_engry_us_201706',\n",
       "       'gas_engry_us_201707', 'ele_engry_us_201707',\n",
       "       'gas_engry_us_201708', 'ele_engry_us_201708',\n",
       "       'gas_engry_us_201709', 'ele_engry_us_201709',\n",
       "       'gas_engry_us_201710', 'ele_engry_us_201710',\n",
       "       'gas_engry_us_201711', 'ele_engry_us_201711',\n",
       "       'gas_engry_us_201712', 'ele_engry_us_201712',\n",
       "       'gas_engry_us_201801', 'ele_engry_us_201801',\n",
       "       'gas_engry_us_201802', 'ele_engry_us_201802',\n",
       "       'gas_engry_us_201803', 'ele_engry_us_201803',\n",
       "       'gas_engry_us_201804', 'ele_engry_us_201804',\n",
       "       'gas_engry_us_201805', 'ele_engry_us_201805',\n",
       "       'gas_engry_us_201806', 'ele_engry_us_201806',\n",
       "       'gas_engry_us_201807', 'ele_engry_us_201807',\n",
       "       'gas_engry_us_201808', 'ele_engry_us_201808',\n",
       "       'gas_engry_us_201809', 'ele_engry_us_201809',\n",
       "       'gas_engry_us_201810', 'ele_engry_us_201810',\n",
       "       'gas_engry_us_201811', 'ele_engry_us_201811',\n",
       "       'gas_engry_us_201812', 'ele_engry_us_201812', 'lw_13101010',\n",
       "       'lw_13101110', 'lw_13101210', 'lw_13101211', 'lw_13101310',\n",
       "       'lw_13101410', 'lw_13111010', 'lw_13111110', 'lw_13121010',\n",
       "       'lw_13121011', 'lw_13131010', 'lw_13131110', 'lw_13141010',\n",
       "       'lw_13141011', 'jmk', 'id', 'rgnl_ar_nm', 'rgnl_ar_nm2',\n",
       "       'lnd_us_sttn_nm', 'rd_sd_nm', 'emd_nm', 'hm_cnt', 'fr_sttn_dstnc',\n",
       "       'bldng_ar_prc', 'fr_wthr_fclt_dstnc', 'fr_mn_cnt', 'mlt_us_yn',\n",
       "       'cctv_dstnc', 'fr_wthr_fclt_in_100m', 'cctv_in_100m',\n",
       "       'tbc_rtl_str_dstnc', 'sft_emrgnc_bll_dstnc', 'ahsm_dstnc',\n",
       "       'no_tbc_zn_dstnc', 'bldng_cnt_in_50m', 'trgt_crtr',\n",
       "       'fr_fghtng_fclt_spcl_css_5_yn', 'fr_fghtng_fclt_spcl_css_6_yn',\n",
       "       'us_yn', 'dngrs_thng_yn', 'slf_fr_brgd_yn',\n",
       "       'blk_dngrs_thng_mnfctr_yn', 'cltrl_hrtg_yn', '공공용시설', '공동주택', '공장',\n",
       "       '관광휴게시설', '교육연구및복지시설', '교육연구시설', '교정및군사시설', '근린생활시설', '노유자시설',\n",
       "       '단독주택', '동.식물 관련시설', '묘지관련시설', '문화및집회시설', '발전시설', '방송통신시설',\n",
       "       '분뇨.쓰레기처리시설', '수련시설', '숙박시설', '시장', '업무시설', '운동시설', '운수시설', '위락시설',\n",
       "       '위험물저장및처리시설', '의료시설', '자동차관련시설', '장례식장', '종교시설', '창고시설', '파출소',\n",
       "       '판매및영업시설', '판매시설'], dtype=object)"
      ]
     },
     "execution_count": 27,
     "metadata": {},
     "output_type": "execute_result"
    }
   ],
   "source": [
    "train.columns.values"
   ]
  },
  {
   "cell_type": "code",
   "execution_count": 28,
   "metadata": {},
   "outputs": [
    {
     "data": {
      "text/plain": [
       "True"
      ]
     },
     "execution_count": 28,
     "metadata": {},
     "output_type": "execute_result"
    }
   ],
   "source": [
    "list(train.columns.values).sort() == list(val.columns.values).sort()"
   ]
  },
  {
   "cell_type": "code",
   "execution_count": 29,
   "metadata": {
    "scrolled": true
   },
   "outputs": [
    {
     "name": "stdout",
     "output_type": "stream",
     "text": [
      "공공용시설\n",
      "교육연구및복지시설\n",
      "교정및군사시설\n",
      "묘지관련시설\n",
      "발전시설\n",
      "방송통신시설\n",
      "수련시설\n",
      "시장\n",
      "운수시설\n",
      "장례식장\n",
      "파출소\n",
      "판매및영업시설\n"
     ]
    }
   ],
   "source": [
    "for a in train.columns.values:\n",
    "    if a not in list(test.columns.values):\n",
    "        print(a)"
   ]
  },
  {
   "cell_type": "code",
   "execution_count": null,
   "metadata": {},
   "outputs": [],
   "source": []
  },
  {
   "cell_type": "code",
   "execution_count": null,
   "metadata": {},
   "outputs": [],
   "source": []
  },
  {
   "cell_type": "code",
   "execution_count": null,
   "metadata": {},
   "outputs": [],
   "source": []
  },
  {
   "cell_type": "code",
   "execution_count": null,
   "metadata": {},
   "outputs": [],
   "source": []
  },
  {
   "cell_type": "markdown",
   "metadata": {},
   "source": [
    "### bldng_archtctr 건물구조"
   ]
  },
  {
   "cell_type": "code",
   "execution_count": 30,
   "metadata": {
    "scrolled": true
   },
   "outputs": [
    {
     "data": {
      "text/plain": [
       "0        블록구조\n",
       "1         NaN\n",
       "2    철근콘크리트구조\n",
       "3       일반목구조\n",
       "4         NaN\n",
       "Name: bldng_archtctr, dtype: object"
      ]
     },
     "execution_count": 30,
     "metadata": {},
     "output_type": "execute_result"
    }
   ],
   "source": [
    "train[\"bldng_archtctr\"].head()"
   ]
  },
  {
   "cell_type": "code",
   "execution_count": 31,
   "metadata": {},
   "outputs": [
    {
     "data": {
      "text/plain": [
       "array(['블록구조', nan, '철근콘크리트구조', '일반목구조', '벽돌구조', '경량철골구조', '일반철골구조',\n",
       "       '철골콘크리트구조', '통나무구조', '강파이프구조', '목구조', '석구조', '조적구조', '기타강구조',\n",
       "       '철골철근콘크리트구조', '기타구조', '기타조적구조', '프리케스트콘크리트구조', '기타콘크리트구조'],\n",
       "      dtype=object)"
      ]
     },
     "execution_count": 31,
     "metadata": {},
     "output_type": "execute_result"
    }
   ],
   "source": [
    "train[\"bldng_archtctr\"].unique()"
   ]
  },
  {
   "cell_type": "code",
   "execution_count": 32,
   "metadata": {},
   "outputs": [
    {
     "data": {
      "text/plain": [
       "array([nan, '일반철골구조', '철근콘크리트구조', '일반목구조', '벽돌구조', '경량철골구조', '철골철근콘크리트구조',\n",
       "       '블록구조', '기타조적구조', '철골콘크리트구조', '기타콘크리트구조', '기타강구조', '조적구조',\n",
       "       '강파이프구조', '목구조', '기타구조', '석구조'], dtype=object)"
      ]
     },
     "execution_count": 32,
     "metadata": {},
     "output_type": "execute_result"
    }
   ],
   "source": [
    "test[\"bldng_archtctr\"].unique()"
   ]
  },
  {
   "cell_type": "code",
   "execution_count": 33,
   "metadata": {},
   "outputs": [
    {
     "name": "stdout",
     "output_type": "stream",
     "text": [
      "nan\n",
      "통나무구조\n",
      "프리케스트콘크리트구조\n"
     ]
    }
   ],
   "source": [
    "for i in train[\"bldng_archtctr\"].unique():\n",
    "    if i not in test[\"bldng_archtctr\"].unique():\n",
    "        print(i)"
   ]
  },
  {
   "cell_type": "code",
   "execution_count": 34,
   "metadata": {},
   "outputs": [
    {
     "name": "stdout",
     "output_type": "stream",
     "text": [
      "nan\n",
      "프리케스트콘크리트구조\n"
     ]
    }
   ],
   "source": [
    "for i in train[\"bldng_archtctr\"].unique():\n",
    "    if i not in val[\"bldng_archtctr\"].unique():\n",
    "        print(i)"
   ]
  },
  {
   "cell_type": "code",
   "execution_count": 35,
   "metadata": {},
   "outputs": [
    {
     "name": "stdout",
     "output_type": "stream",
     "text": [
      "(27665, 212)\n",
      "(1099, 203)\n",
      "(460, 200)\n"
     ]
    }
   ],
   "source": [
    "print(train[train[\"bldng_archtctr\"].isnull()].shape)\n",
    "print(val[val[\"bldng_archtctr\"].isnull()].shape)\n",
    "print(test[test[\"bldng_archtctr\"].isnull()].shape)"
   ]
  },
  {
   "cell_type": "code",
   "execution_count": 36,
   "metadata": {},
   "outputs": [
    {
     "data": {
      "text/plain": [
       "벽돌구조           7377\n",
       "일반목구조          6852\n",
       "철근콘크리트구조       6694\n",
       "블록구조           4087\n",
       "경량철골구조         3378\n",
       "일반철골구조         1938\n",
       "조적구조            398\n",
       "강파이프구조          395\n",
       "기타조적구조          176\n",
       "석구조              55\n",
       "철골철근콘크리트구조       43\n",
       "기타강구조            36\n",
       "철골콘크리트구조         35\n",
       "기타구조             27\n",
       "목구조              17\n",
       "프리케스트콘크리트구조      14\n",
       "통나무구조            11\n",
       "기타콘크리트구조          1\n",
       "dtype: int64"
      ]
     },
     "execution_count": 36,
     "metadata": {},
     "output_type": "execute_result"
    }
   ],
   "source": [
    "pd.value_counts(train[\"bldng_archtctr\"].values.flatten())"
   ]
  },
  {
   "cell_type": "code",
   "execution_count": 37,
   "metadata": {
    "scrolled": true
   },
   "outputs": [
    {
     "data": {
      "text/html": [
       "<div>\n",
       "<style scoped>\n",
       "    .dataframe tbody tr th:only-of-type {\n",
       "        vertical-align: middle;\n",
       "    }\n",
       "\n",
       "    .dataframe tbody tr th {\n",
       "        vertical-align: top;\n",
       "    }\n",
       "\n",
       "    .dataframe thead th {\n",
       "        text-align: right;\n",
       "    }\n",
       "</style>\n",
       "<table border=\"1\" class=\"dataframe\">\n",
       "  <thead>\n",
       "    <tr style=\"text-align: right;\">\n",
       "      <th></th>\n",
       "      <th>fr_yn</th>\n",
       "    </tr>\n",
       "    <tr>\n",
       "      <th>bldng_archtctr</th>\n",
       "      <th></th>\n",
       "    </tr>\n",
       "  </thead>\n",
       "  <tbody>\n",
       "    <tr>\n",
       "      <th>강파이프구조</th>\n",
       "      <td>0.253165</td>\n",
       "    </tr>\n",
       "    <tr>\n",
       "      <th>경량철골구조</th>\n",
       "      <td>0.290112</td>\n",
       "    </tr>\n",
       "    <tr>\n",
       "      <th>기타강구조</th>\n",
       "      <td>0.305556</td>\n",
       "    </tr>\n",
       "    <tr>\n",
       "      <th>기타구조</th>\n",
       "      <td>0.259259</td>\n",
       "    </tr>\n",
       "    <tr>\n",
       "      <th>기타조적구조</th>\n",
       "      <td>0.261364</td>\n",
       "    </tr>\n",
       "    <tr>\n",
       "      <th>기타콘크리트구조</th>\n",
       "      <td>0.000000</td>\n",
       "    </tr>\n",
       "    <tr>\n",
       "      <th>목구조</th>\n",
       "      <td>0.117647</td>\n",
       "    </tr>\n",
       "    <tr>\n",
       "      <th>벽돌구조</th>\n",
       "      <td>0.150061</td>\n",
       "    </tr>\n",
       "    <tr>\n",
       "      <th>블록구조</th>\n",
       "      <td>0.183998</td>\n",
       "    </tr>\n",
       "    <tr>\n",
       "      <th>석구조</th>\n",
       "      <td>0.181818</td>\n",
       "    </tr>\n",
       "    <tr>\n",
       "      <th>일반목구조</th>\n",
       "      <td>0.191039</td>\n",
       "    </tr>\n",
       "    <tr>\n",
       "      <th>일반철골구조</th>\n",
       "      <td>0.408669</td>\n",
       "    </tr>\n",
       "    <tr>\n",
       "      <th>조적구조</th>\n",
       "      <td>0.020101</td>\n",
       "    </tr>\n",
       "    <tr>\n",
       "      <th>철골철근콘크리트구조</th>\n",
       "      <td>0.651163</td>\n",
       "    </tr>\n",
       "    <tr>\n",
       "      <th>철골콘크리트구조</th>\n",
       "      <td>0.400000</td>\n",
       "    </tr>\n",
       "    <tr>\n",
       "      <th>철근콘크리트구조</th>\n",
       "      <td>0.367792</td>\n",
       "    </tr>\n",
       "    <tr>\n",
       "      <th>통나무구조</th>\n",
       "      <td>0.272727</td>\n",
       "    </tr>\n",
       "    <tr>\n",
       "      <th>프리케스트콘크리트구조</th>\n",
       "      <td>0.357143</td>\n",
       "    </tr>\n",
       "  </tbody>\n",
       "</table>\n",
       "</div>"
      ],
      "text/plain": [
       "                   fr_yn\n",
       "bldng_archtctr          \n",
       "강파이프구조          0.253165\n",
       "경량철골구조          0.290112\n",
       "기타강구조           0.305556\n",
       "기타구조            0.259259\n",
       "기타조적구조          0.261364\n",
       "기타콘크리트구조        0.000000\n",
       "목구조             0.117647\n",
       "벽돌구조            0.150061\n",
       "블록구조            0.183998\n",
       "석구조             0.181818\n",
       "일반목구조           0.191039\n",
       "일반철골구조          0.408669\n",
       "조적구조            0.020101\n",
       "철골철근콘크리트구조      0.651163\n",
       "철골콘크리트구조        0.400000\n",
       "철근콘크리트구조        0.367792\n",
       "통나무구조           0.272727\n",
       "프리케스트콘크리트구조     0.357143"
      ]
     },
     "execution_count": 37,
     "metadata": {},
     "output_type": "execute_result"
    }
   ],
   "source": [
    "pd.pivot_table(train, index=\"bldng_archtctr\", values=\"fr_yn\")"
   ]
  },
  {
   "cell_type": "code",
   "execution_count": 38,
   "metadata": {},
   "outputs": [],
   "source": [
    "A = [\"목구조\", \"일반목구조\", \"벽돌구조\", \"블록구조\", \"석구조\", \"조적구조\"]\n",
    "B = [\"강파이프구조\", \"경량철골구조\", \"기타강구조\", \"기타구조\", \"기타조적구조\"]\n",
    "C = [\"일반철골구조\", \"철골철근콘크리트구조\", \"철골콘크리트구조\", \"철근콘크리트구조\"]\n",
    "\n",
    "for i in A:\n",
    "    train.loc[train[\"bldng_archtctr\"].values == i, \"bldng_archtctr_encoded\"] = \"A\"\n",
    "\n",
    "for i in B:\n",
    "    train.loc[train[\"bldng_archtctr\"].values == i, \"bldng_archtctr_encoded\"] = \"B\"\n",
    "    \n",
    "for i in C:\n",
    "    train.loc[train[\"bldng_archtctr\"].values == i, \"bldng_archtctr_encoded\"] = \"C\"\n",
    "\n",
    "    \n",
    "for i in A:\n",
    "    val.loc[val[\"bldng_archtctr\"].values == i, \"bldng_archtctr_encoded\"] = \"A\"\n",
    "\n",
    "for i in B:\n",
    "    val.loc[val[\"bldng_archtctr\"].values == i, \"bldng_archtctr_encoded\"] = \"B\"\n",
    "    \n",
    "for i in C:\n",
    "    val.loc[val[\"bldng_archtctr\"].values == i, \"bldng_archtctr_encoded\"] = \"C\"\n",
    "\n",
    "\n",
    "for i in A:\n",
    "    test.loc[test[\"bldng_archtctr\"].values == i, \"bldng_archtctr_encoded\"] = \"A\"\n",
    "\n",
    "for i in B:\n",
    "    test.loc[test[\"bldng_archtctr\"].values == i, \"bldng_archtctr_encoded\"] = \"B\"\n",
    "    \n",
    "for i in C:\n",
    "    test.loc[test[\"bldng_archtctr\"].values == i, \"bldng_archtctr_encoded\"] = \"C\"\n",
    "\n",
    "\n",
    "\n",
    "\n",
    "\n",
    "\n",
    "\n",
    "\n",
    "\n",
    "\n",
    "\n",
    "\n",
    "\n",
    "\n",
    "\n"
   ]
  },
  {
   "cell_type": "code",
   "execution_count": 39,
   "metadata": {},
   "outputs": [
    {
     "data": {
      "text/html": [
       "<div>\n",
       "<style scoped>\n",
       "    .dataframe tbody tr th:only-of-type {\n",
       "        vertical-align: middle;\n",
       "    }\n",
       "\n",
       "    .dataframe tbody tr th {\n",
       "        vertical-align: top;\n",
       "    }\n",
       "\n",
       "    .dataframe thead th {\n",
       "        text-align: right;\n",
       "    }\n",
       "</style>\n",
       "<table border=\"1\" class=\"dataframe\">\n",
       "  <thead>\n",
       "    <tr style=\"text-align: right;\">\n",
       "      <th></th>\n",
       "      <th>fr_yn</th>\n",
       "    </tr>\n",
       "    <tr>\n",
       "      <th>bldng_archtctr_encoded</th>\n",
       "      <th></th>\n",
       "    </tr>\n",
       "  </thead>\n",
       "  <tbody>\n",
       "    <tr>\n",
       "      <th>A</th>\n",
       "      <td>0.169701</td>\n",
       "    </tr>\n",
       "    <tr>\n",
       "      <th>B</th>\n",
       "      <td>0.285145</td>\n",
       "    </tr>\n",
       "    <tr>\n",
       "      <th>C</th>\n",
       "      <td>0.378416</td>\n",
       "    </tr>\n",
       "  </tbody>\n",
       "</table>\n",
       "</div>"
      ],
      "text/plain": [
       "                           fr_yn\n",
       "bldng_archtctr_encoded          \n",
       "A                       0.169701\n",
       "B                       0.285145\n",
       "C                       0.378416"
      ]
     },
     "execution_count": 39,
     "metadata": {},
     "output_type": "execute_result"
    }
   ],
   "source": [
    "pd.pivot_table(train, index=\"bldng_archtctr_encoded\", values=\"fr_yn\")"
   ]
  },
  {
   "cell_type": "code",
   "execution_count": 40,
   "metadata": {},
   "outputs": [],
   "source": [
    "#bldng_archtctr_columns = list(train[\"bldng_archtctr\"].unique())\n",
    "\n",
    "#for b in bldng_archtctr_columns:\n",
    "#    if (train[\"bldng_archtctr\"].values == b).sum() < 150:\n",
    "#        train.loc[train[\"bldng_archtctr\"].values == b, \"bldng_archtctr\"] = None\n",
    "#        val.loc[val[\"bldng_archtctr\"].values == b, \"bldng_archtctr\"] = None\n",
    "#        test.loc[test[\"bldng_us\"].values == b, \"bldng_archtctr\"] = None"
   ]
  },
  {
   "cell_type": "code",
   "execution_count": 41,
   "metadata": {},
   "outputs": [],
   "source": [
    "one_hot_bldng_archtctr = pd.get_dummies(train[\"bldng_archtctr_encoded\"])\n",
    "train = train.join(one_hot_bldng_archtctr)\n",
    "\n",
    "one_hot_bldng_archtctr = pd.get_dummies(val[\"bldng_archtctr_encoded\"])\n",
    "val = val.join(one_hot_bldng_archtctr)\n",
    "\n",
    "one_hot_bldng_archtctr = pd.get_dummies(test[\"bldng_archtctr_encoded\"])\n",
    "test = test.join(one_hot_bldng_archtctr)\n"
   ]
  },
  {
   "cell_type": "code",
   "execution_count": 42,
   "metadata": {},
   "outputs": [],
   "source": [
    "train = train.drop(\"bldng_archtctr\", 1)\n",
    "val = val.drop(\"bldng_archtctr\", 1)\n",
    "test = test.drop(\"bldng_archtctr\", 1)\n",
    "\n",
    "train = train.drop(\"bldng_archtctr_encoded\", 1)\n",
    "val = val.drop(\"bldng_archtctr_encoded\", 1)\n",
    "test = test.drop(\"bldng_archtctr_encoded\", 1)"
   ]
  },
  {
   "cell_type": "markdown",
   "metadata": {},
   "source": [
    "### bldng_cnt 건물채수"
   ]
  },
  {
   "cell_type": "code",
   "execution_count": 43,
   "metadata": {
    "scrolled": true
   },
   "outputs": [
    {
     "data": {
      "text/plain": [
       "0    3\n",
       "1    3\n",
       "2    1\n",
       "3    2\n",
       "4    2\n",
       "Name: bldng_cnt, dtype: int64"
      ]
     },
     "execution_count": 43,
     "metadata": {},
     "output_type": "execute_result"
    }
   ],
   "source": [
    "train[\"bldng_cnt\"].head()"
   ]
  },
  {
   "cell_type": "code",
   "execution_count": 44,
   "metadata": {},
   "outputs": [
    {
     "data": {
      "text/plain": [
       "1      19232\n",
       "2      12712\n",
       "3       9352\n",
       "4       6201\n",
       "5       3855\n",
       "6       2466\n",
       "7       1462\n",
       "8        918\n",
       "9        586\n",
       "10       399\n",
       "11       286\n",
       "12       265\n",
       "13       176\n",
       "15       154\n",
       "14       147\n",
       "17       103\n",
       "16        97\n",
       "18        91\n",
       "20        60\n",
       "19        54\n",
       "21        53\n",
       "22        46\n",
       "23        43\n",
       "28        29\n",
       "24        27\n",
       "31        24\n",
       "27        23\n",
       "30        23\n",
       "26        22\n",
       "25        20\n",
       "       ...  \n",
       "69         2\n",
       "65         2\n",
       "114        2\n",
       "705        1\n",
       "93         1\n",
       "85         1\n",
       "156        1\n",
       "122        1\n",
       "99         1\n",
       "125        1\n",
       "94         1\n",
       "117        1\n",
       "132        1\n",
       "139        1\n",
       "75         1\n",
       "133        1\n",
       "148        1\n",
       "115        1\n",
       "83         1\n",
       "210        1\n",
       "71         1\n",
       "167        1\n",
       "113        1\n",
       "111        1\n",
       "79         1\n",
       "174        1\n",
       "138        1\n",
       "110        1\n",
       "77         1\n",
       "223        1\n",
       "Name: bldng_cnt, Length: 96, dtype: int64"
      ]
     },
     "execution_count": 44,
     "metadata": {},
     "output_type": "execute_result"
    }
   ],
   "source": [
    "train[\"bldng_cnt\"].value_counts()"
   ]
  },
  {
   "cell_type": "code",
   "execution_count": 45,
   "metadata": {},
   "outputs": [
    {
     "data": {
      "text/plain": [
       "count    59199.000000\n",
       "mean         3.453927\n",
       "std          7.220839\n",
       "min          1.000000\n",
       "25%          1.000000\n",
       "50%          2.000000\n",
       "75%          4.000000\n",
       "max        705.000000\n",
       "Name: bldng_cnt, dtype: float64"
      ]
     },
     "execution_count": 45,
     "metadata": {},
     "output_type": "execute_result"
    }
   ],
   "source": [
    "train[\"bldng_cnt\"].describe()"
   ]
  },
  {
   "cell_type": "code",
   "execution_count": 46,
   "metadata": {},
   "outputs": [
    {
     "data": {
      "text/plain": [
       "count    56784.000000\n",
       "mean         2.719763\n",
       "std          1.859939\n",
       "min          1.000000\n",
       "25%          1.000000\n",
       "50%          2.000000\n",
       "75%          4.000000\n",
       "max          9.000000\n",
       "Name: bldng_cnt, dtype: float64"
      ]
     },
     "execution_count": 46,
     "metadata": {},
     "output_type": "execute_result"
    }
   ],
   "source": [
    "bldng_cnt_under10 = train[train[\"bldng_cnt\"]<10] \n",
    "bldng_cnt_under10[\"bldng_cnt\"].describe()"
   ]
  },
  {
   "cell_type": "code",
   "execution_count": 47,
   "metadata": {},
   "outputs": [
    {
     "data": {
      "text/plain": [
       "count    56784.000000\n",
       "mean         0.124225\n",
       "std          0.329841\n",
       "min          0.000000\n",
       "25%          0.000000\n",
       "50%          0.000000\n",
       "75%          0.000000\n",
       "max          1.000000\n",
       "Name: fr_yn, dtype: float64"
      ]
     },
     "execution_count": 47,
     "metadata": {},
     "output_type": "execute_result"
    }
   ],
   "source": [
    "bldng_cnt_under10[\"fr_yn\"].describe()"
   ]
  },
  {
   "cell_type": "code",
   "execution_count": 48,
   "metadata": {},
   "outputs": [
    {
     "data": {
      "text/plain": [
       "(array([19232., 12712.,  9352.,  6201.,     0.,  3855.,  2466.,  1462.,\n",
       "          918.,   586.]),\n",
       " array([1. , 1.8, 2.6, 3.4, 4.2, 5. , 5.8, 6.6, 7.4, 8.2, 9. ]),\n",
       " <a list of 10 Patch objects>)"
      ]
     },
     "execution_count": 48,
     "metadata": {},
     "output_type": "execute_result"
    },
    {
     "data": {
      "image/png": "[encoded data removed]",
      "text/plain": [
       "<Figure size 432x288 with 1 Axes>"
      ]
     },
     "metadata": {
      "needs_background": "light"
     },
     "output_type": "display_data"
    }
   ],
   "source": [
    "plt.hist(bldng_cnt_under10[\"bldng_cnt\"], rwidth=0.9)"
   ]
  },
  {
   "cell_type": "code",
   "execution_count": 49,
   "metadata": {
    "scrolled": true
   },
   "outputs": [
    {
     "data": {
      "text/plain": [
       "<matplotlib.axes._subplots.AxesSubplot at 0x28762c49860>"
      ]
     },
     "execution_count": 49,
     "metadata": {},
     "output_type": "execute_result"
    },
    {
     "data": {
      "image/png": "[encoded data removed]",
      "text/plain": [
       "<Figure size 432x288 with 1 Axes>"
      ]
     },
     "metadata": {
      "needs_background": "light"
     },
     "output_type": "display_data"
    }
   ],
   "source": [
    "sns.countplot(data=bldng_cnt_under10, x=\"bldng_cnt\",hue=\"fr_yn\")"
   ]
  },
  {
   "cell_type": "code",
   "execution_count": 50,
   "metadata": {
    "scrolled": true
   },
   "outputs": [
    {
     "data": {
      "text/html": [
       "<div>\n",
       "<style scoped>\n",
       "    .dataframe tbody tr th:only-of-type {\n",
       "        vertical-align: middle;\n",
       "    }\n",
       "\n",
       "    .dataframe tbody tr th {\n",
       "        vertical-align: top;\n",
       "    }\n",
       "\n",
       "    .dataframe thead th {\n",
       "        text-align: right;\n",
       "    }\n",
       "</style>\n",
       "<table border=\"1\" class=\"dataframe\">\n",
       "  <thead>\n",
       "    <tr style=\"text-align: right;\">\n",
       "      <th></th>\n",
       "      <th>fr_yn</th>\n",
       "    </tr>\n",
       "    <tr>\n",
       "      <th>bldng_cnt</th>\n",
       "      <th></th>\n",
       "    </tr>\n",
       "  </thead>\n",
       "  <tbody>\n",
       "    <tr>\n",
       "      <th>1</th>\n",
       "      <td>0.128276</td>\n",
       "    </tr>\n",
       "    <tr>\n",
       "      <th>2</th>\n",
       "      <td>0.129405</td>\n",
       "    </tr>\n",
       "    <tr>\n",
       "      <th>3</th>\n",
       "      <td>0.117622</td>\n",
       "    </tr>\n",
       "    <tr>\n",
       "      <th>4</th>\n",
       "      <td>0.109660</td>\n",
       "    </tr>\n",
       "    <tr>\n",
       "      <th>5</th>\n",
       "      <td>0.112581</td>\n",
       "    </tr>\n",
       "    <tr>\n",
       "      <th>6</th>\n",
       "      <td>0.118816</td>\n",
       "    </tr>\n",
       "    <tr>\n",
       "      <th>7</th>\n",
       "      <td>0.137483</td>\n",
       "    </tr>\n",
       "    <tr>\n",
       "      <th>8</th>\n",
       "      <td>0.151416</td>\n",
       "    </tr>\n",
       "    <tr>\n",
       "      <th>9</th>\n",
       "      <td>0.162116</td>\n",
       "    </tr>\n",
       "  </tbody>\n",
       "</table>\n",
       "</div>"
      ],
      "text/plain": [
       "              fr_yn\n",
       "bldng_cnt          \n",
       "1          0.128276\n",
       "2          0.129405\n",
       "3          0.117622\n",
       "4          0.109660\n",
       "5          0.112581\n",
       "6          0.118816\n",
       "7          0.137483\n",
       "8          0.151416\n",
       "9          0.162116"
      ]
     },
     "execution_count": 50,
     "metadata": {},
     "output_type": "execute_result"
    }
   ],
   "source": [
    "pd.pivot_table(bldng_cnt_under10, index=\"bldng_cnt\", values=\"fr_yn\")"
   ]
  },
  {
   "cell_type": "code",
   "execution_count": 51,
   "metadata": {},
   "outputs": [
    {
     "data": {
      "text/plain": [
       "count    58556.000000\n",
       "mean         3.029203\n",
       "std          2.576160\n",
       "min          1.000000\n",
       "25%          1.000000\n",
       "50%          2.000000\n",
       "75%          4.000000\n",
       "max         19.000000\n",
       "Name: bldng_cnt, dtype: float64"
      ]
     },
     "execution_count": 51,
     "metadata": {},
     "output_type": "execute_result"
    }
   ],
   "source": [
    "bldng_cnt_under20 = train[train[\"bldng_cnt\"]<20]\n",
    "bldng_cnt_under20[\"bldng_cnt\"].describe()"
   ]
  },
  {
   "cell_type": "code",
   "execution_count": 52,
   "metadata": {},
   "outputs": [
    {
     "data": {
      "text/plain": [
       "<matplotlib.axes._subplots.AxesSubplot at 0x287010819b0>"
      ]
     },
     "execution_count": 52,
     "metadata": {},
     "output_type": "execute_result"
    },
    {
     "data": {
      "image/png": "[encoded data removed]",
      "text/plain": [
       "<Figure size 432x288 with 1 Axes>"
      ]
     },
     "metadata": {
      "needs_background": "light"
     },
     "output_type": "display_data"
    }
   ],
   "source": [
    "sns.countplot(data=bldng_cnt_under20, x=\"bldng_cnt\",hue=\"fr_yn\")"
   ]
  },
  {
   "cell_type": "code",
   "execution_count": 53,
   "metadata": {},
   "outputs": [
    {
     "data": {
      "text/html": [
       "<div>\n",
       "<style scoped>\n",
       "    .dataframe tbody tr th:only-of-type {\n",
       "        vertical-align: middle;\n",
       "    }\n",
       "\n",
       "    .dataframe tbody tr th {\n",
       "        vertical-align: top;\n",
       "    }\n",
       "\n",
       "    .dataframe thead th {\n",
       "        text-align: right;\n",
       "    }\n",
       "</style>\n",
       "<table border=\"1\" class=\"dataframe\">\n",
       "  <thead>\n",
       "    <tr style=\"text-align: right;\">\n",
       "      <th></th>\n",
       "      <th>fr_yn</th>\n",
       "    </tr>\n",
       "    <tr>\n",
       "      <th>bldng_cnt</th>\n",
       "      <th></th>\n",
       "    </tr>\n",
       "  </thead>\n",
       "  <tbody>\n",
       "    <tr>\n",
       "      <th>1</th>\n",
       "      <td>0.128276</td>\n",
       "    </tr>\n",
       "    <tr>\n",
       "      <th>2</th>\n",
       "      <td>0.129405</td>\n",
       "    </tr>\n",
       "    <tr>\n",
       "      <th>3</th>\n",
       "      <td>0.117622</td>\n",
       "    </tr>\n",
       "    <tr>\n",
       "      <th>4</th>\n",
       "      <td>0.109660</td>\n",
       "    </tr>\n",
       "    <tr>\n",
       "      <th>5</th>\n",
       "      <td>0.112581</td>\n",
       "    </tr>\n",
       "    <tr>\n",
       "      <th>6</th>\n",
       "      <td>0.118816</td>\n",
       "    </tr>\n",
       "    <tr>\n",
       "      <th>7</th>\n",
       "      <td>0.137483</td>\n",
       "    </tr>\n",
       "    <tr>\n",
       "      <th>8</th>\n",
       "      <td>0.151416</td>\n",
       "    </tr>\n",
       "    <tr>\n",
       "      <th>9</th>\n",
       "      <td>0.162116</td>\n",
       "    </tr>\n",
       "    <tr>\n",
       "      <th>10</th>\n",
       "      <td>0.150376</td>\n",
       "    </tr>\n",
       "    <tr>\n",
       "      <th>11</th>\n",
       "      <td>0.206294</td>\n",
       "    </tr>\n",
       "    <tr>\n",
       "      <th>12</th>\n",
       "      <td>0.233962</td>\n",
       "    </tr>\n",
       "    <tr>\n",
       "      <th>13</th>\n",
       "      <td>0.187500</td>\n",
       "    </tr>\n",
       "    <tr>\n",
       "      <th>14</th>\n",
       "      <td>0.244898</td>\n",
       "    </tr>\n",
       "    <tr>\n",
       "      <th>15</th>\n",
       "      <td>0.337662</td>\n",
       "    </tr>\n",
       "    <tr>\n",
       "      <th>16</th>\n",
       "      <td>0.309278</td>\n",
       "    </tr>\n",
       "    <tr>\n",
       "      <th>17</th>\n",
       "      <td>0.310680</td>\n",
       "    </tr>\n",
       "    <tr>\n",
       "      <th>18</th>\n",
       "      <td>0.318681</td>\n",
       "    </tr>\n",
       "    <tr>\n",
       "      <th>19</th>\n",
       "      <td>0.222222</td>\n",
       "    </tr>\n",
       "  </tbody>\n",
       "</table>\n",
       "</div>"
      ],
      "text/plain": [
       "              fr_yn\n",
       "bldng_cnt          \n",
       "1          0.128276\n",
       "2          0.129405\n",
       "3          0.117622\n",
       "4          0.109660\n",
       "5          0.112581\n",
       "6          0.118816\n",
       "7          0.137483\n",
       "8          0.151416\n",
       "9          0.162116\n",
       "10         0.150376\n",
       "11         0.206294\n",
       "12         0.233962\n",
       "13         0.187500\n",
       "14         0.244898\n",
       "15         0.337662\n",
       "16         0.309278\n",
       "17         0.310680\n",
       "18         0.318681\n",
       "19         0.222222"
      ]
     },
     "execution_count": 53,
     "metadata": {},
     "output_type": "execute_result"
    }
   ],
   "source": [
    "pd.pivot_table(bldng_cnt_under20, index=\"bldng_cnt\", values=\"fr_yn\")"
   ]
  },
  {
   "cell_type": "code",
   "execution_count": 54,
   "metadata": {},
   "outputs": [
    {
     "data": {
      "text/plain": [
       "count    59085.000000\n",
       "mean         3.254041\n",
       "std          3.559163\n",
       "min          1.000000\n",
       "25%          1.000000\n",
       "50%          2.000000\n",
       "75%          4.000000\n",
       "max         49.000000\n",
       "Name: bldng_cnt, dtype: float64"
      ]
     },
     "execution_count": 54,
     "metadata": {},
     "output_type": "execute_result"
    }
   ],
   "source": [
    "bldng_cnt_under50 = train[train[\"bldng_cnt\"]<50]\n",
    "bldng_cnt_under50[\"bldng_cnt\"].describe()"
   ]
  },
  {
   "cell_type": "code",
   "execution_count": 55,
   "metadata": {},
   "outputs": [
    {
     "data": {
      "text/html": [
       "<div>\n",
       "<style scoped>\n",
       "    .dataframe tbody tr th:only-of-type {\n",
       "        vertical-align: middle;\n",
       "    }\n",
       "\n",
       "    .dataframe tbody tr th {\n",
       "        vertical-align: top;\n",
       "    }\n",
       "\n",
       "    .dataframe thead th {\n",
       "        text-align: right;\n",
       "    }\n",
       "</style>\n",
       "<table border=\"1\" class=\"dataframe\">\n",
       "  <thead>\n",
       "    <tr style=\"text-align: right;\">\n",
       "      <th></th>\n",
       "      <th>fr_yn</th>\n",
       "    </tr>\n",
       "    <tr>\n",
       "      <th>bldng_cnt</th>\n",
       "      <th></th>\n",
       "    </tr>\n",
       "  </thead>\n",
       "  <tbody>\n",
       "    <tr>\n",
       "      <th>1</th>\n",
       "      <td>0.128276</td>\n",
       "    </tr>\n",
       "    <tr>\n",
       "      <th>2</th>\n",
       "      <td>0.129405</td>\n",
       "    </tr>\n",
       "    <tr>\n",
       "      <th>3</th>\n",
       "      <td>0.117622</td>\n",
       "    </tr>\n",
       "    <tr>\n",
       "      <th>4</th>\n",
       "      <td>0.109660</td>\n",
       "    </tr>\n",
       "    <tr>\n",
       "      <th>5</th>\n",
       "      <td>0.112581</td>\n",
       "    </tr>\n",
       "    <tr>\n",
       "      <th>6</th>\n",
       "      <td>0.118816</td>\n",
       "    </tr>\n",
       "    <tr>\n",
       "      <th>7</th>\n",
       "      <td>0.137483</td>\n",
       "    </tr>\n",
       "    <tr>\n",
       "      <th>8</th>\n",
       "      <td>0.151416</td>\n",
       "    </tr>\n",
       "    <tr>\n",
       "      <th>9</th>\n",
       "      <td>0.162116</td>\n",
       "    </tr>\n",
       "    <tr>\n",
       "      <th>10</th>\n",
       "      <td>0.150376</td>\n",
       "    </tr>\n",
       "    <tr>\n",
       "      <th>11</th>\n",
       "      <td>0.206294</td>\n",
       "    </tr>\n",
       "    <tr>\n",
       "      <th>12</th>\n",
       "      <td>0.233962</td>\n",
       "    </tr>\n",
       "    <tr>\n",
       "      <th>13</th>\n",
       "      <td>0.187500</td>\n",
       "    </tr>\n",
       "    <tr>\n",
       "      <th>14</th>\n",
       "      <td>0.244898</td>\n",
       "    </tr>\n",
       "    <tr>\n",
       "      <th>15</th>\n",
       "      <td>0.337662</td>\n",
       "    </tr>\n",
       "    <tr>\n",
       "      <th>16</th>\n",
       "      <td>0.309278</td>\n",
       "    </tr>\n",
       "    <tr>\n",
       "      <th>17</th>\n",
       "      <td>0.310680</td>\n",
       "    </tr>\n",
       "    <tr>\n",
       "      <th>18</th>\n",
       "      <td>0.318681</td>\n",
       "    </tr>\n",
       "    <tr>\n",
       "      <th>19</th>\n",
       "      <td>0.222222</td>\n",
       "    </tr>\n",
       "    <tr>\n",
       "      <th>20</th>\n",
       "      <td>0.300000</td>\n",
       "    </tr>\n",
       "    <tr>\n",
       "      <th>21</th>\n",
       "      <td>0.169811</td>\n",
       "    </tr>\n",
       "    <tr>\n",
       "      <th>22</th>\n",
       "      <td>0.369565</td>\n",
       "    </tr>\n",
       "    <tr>\n",
       "      <th>23</th>\n",
       "      <td>0.372093</td>\n",
       "    </tr>\n",
       "    <tr>\n",
       "      <th>24</th>\n",
       "      <td>0.296296</td>\n",
       "    </tr>\n",
       "    <tr>\n",
       "      <th>25</th>\n",
       "      <td>0.250000</td>\n",
       "    </tr>\n",
       "    <tr>\n",
       "      <th>26</th>\n",
       "      <td>0.318182</td>\n",
       "    </tr>\n",
       "    <tr>\n",
       "      <th>27</th>\n",
       "      <td>0.086957</td>\n",
       "    </tr>\n",
       "    <tr>\n",
       "      <th>28</th>\n",
       "      <td>0.448276</td>\n",
       "    </tr>\n",
       "    <tr>\n",
       "      <th>29</th>\n",
       "      <td>0.583333</td>\n",
       "    </tr>\n",
       "    <tr>\n",
       "      <th>30</th>\n",
       "      <td>0.173913</td>\n",
       "    </tr>\n",
       "    <tr>\n",
       "      <th>31</th>\n",
       "      <td>0.625000</td>\n",
       "    </tr>\n",
       "    <tr>\n",
       "      <th>32</th>\n",
       "      <td>0.000000</td>\n",
       "    </tr>\n",
       "    <tr>\n",
       "      <th>33</th>\n",
       "      <td>0.307692</td>\n",
       "    </tr>\n",
       "    <tr>\n",
       "      <th>34</th>\n",
       "      <td>0.562500</td>\n",
       "    </tr>\n",
       "    <tr>\n",
       "      <th>35</th>\n",
       "      <td>0.125000</td>\n",
       "    </tr>\n",
       "    <tr>\n",
       "      <th>36</th>\n",
       "      <td>0.555556</td>\n",
       "    </tr>\n",
       "    <tr>\n",
       "      <th>37</th>\n",
       "      <td>0.294118</td>\n",
       "    </tr>\n",
       "    <tr>\n",
       "      <th>38</th>\n",
       "      <td>0.000000</td>\n",
       "    </tr>\n",
       "    <tr>\n",
       "      <th>39</th>\n",
       "      <td>0.111111</td>\n",
       "    </tr>\n",
       "    <tr>\n",
       "      <th>40</th>\n",
       "      <td>0.454545</td>\n",
       "    </tr>\n",
       "    <tr>\n",
       "      <th>41</th>\n",
       "      <td>0.000000</td>\n",
       "    </tr>\n",
       "    <tr>\n",
       "      <th>42</th>\n",
       "      <td>0.250000</td>\n",
       "    </tr>\n",
       "    <tr>\n",
       "      <th>43</th>\n",
       "      <td>0.000000</td>\n",
       "    </tr>\n",
       "    <tr>\n",
       "      <th>44</th>\n",
       "      <td>0.000000</td>\n",
       "    </tr>\n",
       "    <tr>\n",
       "      <th>45</th>\n",
       "      <td>0.000000</td>\n",
       "    </tr>\n",
       "    <tr>\n",
       "      <th>46</th>\n",
       "      <td>0.285714</td>\n",
       "    </tr>\n",
       "    <tr>\n",
       "      <th>47</th>\n",
       "      <td>0.000000</td>\n",
       "    </tr>\n",
       "    <tr>\n",
       "      <th>48</th>\n",
       "      <td>0.400000</td>\n",
       "    </tr>\n",
       "    <tr>\n",
       "      <th>49</th>\n",
       "      <td>0.000000</td>\n",
       "    </tr>\n",
       "  </tbody>\n",
       "</table>\n",
       "</div>"
      ],
      "text/plain": [
       "              fr_yn\n",
       "bldng_cnt          \n",
       "1          0.128276\n",
       "2          0.129405\n",
       "3          0.117622\n",
       "4          0.109660\n",
       "5          0.112581\n",
       "6          0.118816\n",
       "7          0.137483\n",
       "8          0.151416\n",
       "9          0.162116\n",
       "10         0.150376\n",
       "11         0.206294\n",
       "12         0.233962\n",
       "13         0.187500\n",
       "14         0.244898\n",
       "15         0.337662\n",
       "16         0.309278\n",
       "17         0.310680\n",
       "18         0.318681\n",
       "19         0.222222\n",
       "20         0.300000\n",
       "21         0.169811\n",
       "22         0.369565\n",
       "23         0.372093\n",
       "24         0.296296\n",
       "25         0.250000\n",
       "26         0.318182\n",
       "27         0.086957\n",
       "28         0.448276\n",
       "29         0.583333\n",
       "30         0.173913\n",
       "31         0.625000\n",
       "32         0.000000\n",
       "33         0.307692\n",
       "34         0.562500\n",
       "35         0.125000\n",
       "36         0.555556\n",
       "37         0.294118\n",
       "38         0.000000\n",
       "39         0.111111\n",
       "40         0.454545\n",
       "41         0.000000\n",
       "42         0.250000\n",
       "43         0.000000\n",
       "44         0.000000\n",
       "45         0.000000\n",
       "46         0.285714\n",
       "47         0.000000\n",
       "48         0.400000\n",
       "49         0.000000"
      ]
     },
     "execution_count": 55,
     "metadata": {},
     "output_type": "execute_result"
    }
   ],
   "source": [
    "pd.pivot_table(bldng_cnt_under50, index=\"bldng_cnt\", values=\"fr_yn\")"
   ]
  },
  {
   "cell_type": "code",
   "execution_count": null,
   "metadata": {},
   "outputs": [],
   "source": []
  },
  {
   "cell_type": "code",
   "execution_count": null,
   "metadata": {},
   "outputs": [],
   "source": []
  },
  {
   "cell_type": "code",
   "execution_count": 56,
   "metadata": {},
   "outputs": [
    {
     "data": {
      "text/plain": [
       "count     93.000000\n",
       "mean      78.311828\n",
       "std       35.779512\n",
       "min       51.000000\n",
       "25%       59.000000\n",
       "50%       63.000000\n",
       "75%       83.000000\n",
       "max      223.000000\n",
       "Name: bldng_cnt, dtype: float64"
      ]
     },
     "execution_count": 56,
     "metadata": {},
     "output_type": "execute_result"
    }
   ],
   "source": [
    "bldng_cnt_over50_under250 = train[(train[\"bldng_cnt\"]>50)&(train[\"bldng_cnt\"]<250)]\n",
    "bldng_cnt_over50_under250[\"bldng_cnt\"].describe()"
   ]
  },
  {
   "cell_type": "code",
   "execution_count": 57,
   "metadata": {},
   "outputs": [
    {
     "data": {
      "text/plain": [
       "count    93.000000\n",
       "mean      0.247312\n",
       "std       0.433788\n",
       "min       0.000000\n",
       "25%       0.000000\n",
       "50%       0.000000\n",
       "75%       0.000000\n",
       "max       1.000000\n",
       "Name: fr_yn, dtype: float64"
      ]
     },
     "execution_count": 57,
     "metadata": {},
     "output_type": "execute_result"
    }
   ],
   "source": [
    "bldng_cnt_over50_under250[\"fr_yn\"].describe()"
   ]
  },
  {
   "cell_type": "code",
   "execution_count": 58,
   "metadata": {},
   "outputs": [
    {
     "data": {
      "text/plain": [
       "<matplotlib.collections.PathCollection at 0x28715b54ef0>"
      ]
     },
     "execution_count": 58,
     "metadata": {},
     "output_type": "execute_result"
    },
    {
     "data": {
      "image/png": "[encoded data removed]",
      "text/plain": [
       "<Figure size 432x288 with 1 Axes>"
      ]
     },
     "metadata": {
      "needs_background": "light"
     },
     "output_type": "display_data"
    }
   ],
   "source": [
    "plt.scatter(bldng_cnt_over50_under250[\"bldng_cnt\"], bldng_cnt_over50_under250[\"fr_yn\"], s=50)"
   ]
  },
  {
   "cell_type": "code",
   "execution_count": 59,
   "metadata": {},
   "outputs": [
    {
     "data": {
      "text/plain": [
       "count    66.00000\n",
       "mean      0.30303\n",
       "std       0.46309\n",
       "min       0.00000\n",
       "25%       0.00000\n",
       "50%       0.00000\n",
       "75%       1.00000\n",
       "max       1.00000\n",
       "Name: fr_yn, dtype: float64"
      ]
     },
     "execution_count": 59,
     "metadata": {},
     "output_type": "execute_result"
    }
   ],
   "source": [
    "bldng_cnt_over50_under75 = train[(train[\"bldng_cnt\"]>50)&(train[\"bldng_cnt\"]<75)]\n",
    "bldng_cnt_over50_under75[\"fr_yn\"].describe()"
   ]
  },
  {
   "cell_type": "code",
   "execution_count": 60,
   "metadata": {},
   "outputs": [
    {
     "data": {
      "text/plain": [
       "<matplotlib.axes._subplots.AxesSubplot at 0x28715b63208>"
      ]
     },
     "execution_count": 60,
     "metadata": {},
     "output_type": "execute_result"
    },
    {
     "data": {
      "image/png": "[encoded data removed]",
      "text/plain": [
       "<Figure size 432x288 with 1 Axes>"
      ]
     },
     "metadata": {
      "needs_background": "light"
     },
     "output_type": "display_data"
    }
   ],
   "source": [
    "train.loc[train[\"bldng_cnt\"]<11, \"bldng_cnt_encoded\"] = \"small\"\n",
    "train.loc[(train[\"bldng_cnt\"]>10)&(train[\"bldng_cnt\"]<75), \"bldng_cnt_encoded\"] = \"middle\"\n",
    "train.loc[train[\"bldng_cnt\"]>74, \"bldng_cnt_encoded\"] = \"big\"\n",
    "\n",
    "sns.countplot(data=train, x=\"bldng_cnt_encoded\",hue=\"fr_yn\")\n",
    "\n"
   ]
  },
  {
   "cell_type": "code",
   "execution_count": 61,
   "metadata": {},
   "outputs": [],
   "source": [
    "one_hot_bldng_cnt_encoded = pd.get_dummies(train[\"bldng_cnt_encoded\"])\n",
    "train = train.join(one_hot_bldng_cnt_encoded)"
   ]
  },
  {
   "cell_type": "code",
   "execution_count": 62,
   "metadata": {},
   "outputs": [],
   "source": [
    "val.loc[val[\"bldng_cnt\"]<11, \"bldng_cnt_encoded\"] = \"small\"\n",
    "val.loc[(val[\"bldng_cnt\"]>10)&(val[\"bldng_cnt\"]<75), \"bldng_cnt_encoded\"] = \"middle\"\n",
    "val.loc[val[\"bldng_cnt\"]>74, \"bldng_cnt_encoded\"] = \"big\"\n",
    "\n",
    "one_hot_bldng_cnt_encoded = pd.get_dummies(val[\"bldng_cnt_encoded\"])\n",
    "val = val.join(one_hot_bldng_cnt_encoded)"
   ]
  },
  {
   "cell_type": "code",
   "execution_count": 63,
   "metadata": {},
   "outputs": [],
   "source": [
    "test.loc[val[\"bldng_cnt\"]<11, \"bldng_cnt_encoded\"] = \"small\"\n",
    "test.loc[(test[\"bldng_cnt\"]>10)&(test[\"bldng_cnt\"]<75), \"bldng_cnt_encoded\"] = \"middle\"\n",
    "test.loc[test[\"bldng_cnt\"]>74, \"bldng_cnt_encoded\"] = \"big\"\n",
    "\n",
    "one_hot_bldng_cnt_encoded = pd.get_dummies(test[\"bldng_cnt_encoded\"])\n",
    "test = test.join(one_hot_bldng_cnt_encoded)"
   ]
  },
  {
   "cell_type": "code",
   "execution_count": 64,
   "metadata": {},
   "outputs": [],
   "source": [
    "train = train.drop(\"bldng_cnt\", 1)\n",
    "val = val.drop(\"bldng_cnt\", 1)\n",
    "test = test.drop(\"bldng_cnt\", 1)\n",
    "\n",
    "train = train.drop(\"bldng_cnt_encoded\", 1)\n",
    "val = val.drop(\"bldng_cnt_encoded\", 1)\n",
    "test = test.drop(\"bldng_cnt_encoded\", 1)"
   ]
  },
  {
   "cell_type": "code",
   "execution_count": null,
   "metadata": {},
   "outputs": [],
   "source": []
  },
  {
   "cell_type": "markdown",
   "metadata": {},
   "source": [
    "### bldng_ar & ttl_ar & lnd_ar 건물건축면적, 건물연면적, 토지면적"
   ]
  },
  {
   "cell_type": "code",
   "execution_count": 65,
   "metadata": {},
   "outputs": [],
   "source": [
    "# val 값이 전처리 하기 전이 조금 더 잘나옴"
   ]
  },
  {
   "cell_type": "code",
   "execution_count": 66,
   "metadata": {},
   "outputs": [
    {
     "data": {
      "text/plain": [
       "0     69.42\n",
       "1     46.29\n",
       "2    583.80\n",
       "3     48.92\n",
       "4      0.00\n",
       "5     96.66\n",
       "6     84.00\n",
       "7     92.00\n",
       "8    102.36\n",
       "9     66.13\n",
       "Name: bldng_ar, dtype: float64"
      ]
     },
     "execution_count": 66,
     "metadata": {},
     "output_type": "execute_result"
    }
   ],
   "source": [
    "train[\"bldng_ar\"].head(10)"
   ]
  },
  {
   "cell_type": "code",
   "execution_count": 67,
   "metadata": {},
   "outputs": [
    {
     "name": "stdout",
     "output_type": "stream",
     "text": [
      "(0, 216)\n",
      "(0, 206)\n",
      "(0, 204)\n"
     ]
    }
   ],
   "source": [
    "print(train[train[\"bldng_ar\"].isnull()].shape)\n",
    "print(val[val[\"bldng_ar\"].isnull()].shape)\n",
    "print(test[test[\"bldng_ar\"].isnull()].shape)"
   ]
  },
  {
   "cell_type": "code",
   "execution_count": 68,
   "metadata": {},
   "outputs": [
    {
     "name": "stdout",
     "output_type": "stream",
     "text": [
      "(9660, 216)\n",
      "(230, 206)\n",
      "(98, 204)\n"
     ]
    }
   ],
   "source": [
    "print(train[train[\"bldng_ar\"]==0].shape)\n",
    "print(val[val[\"bldng_ar\"]==0].shape)\n",
    "print(test[test[\"bldng_ar\"]==0].shape)"
   ]
  },
  {
   "cell_type": "code",
   "execution_count": 69,
   "metadata": {},
   "outputs": [
    {
     "name": "stdout",
     "output_type": "stream",
     "text": [
      "(8426, 216)\n",
      "(211, 206)\n",
      "(88, 204)\n"
     ]
    }
   ],
   "source": [
    "print(train[train[\"ttl_ar\"]==0].shape)\n",
    "print(val[val[\"ttl_ar\"]==0].shape)\n",
    "print(test[test[\"ttl_ar\"]==0].shape)"
   ]
  },
  {
   "cell_type": "code",
   "execution_count": 70,
   "metadata": {},
   "outputs": [
    {
     "name": "stdout",
     "output_type": "stream",
     "text": [
      "(25569, 216)\n",
      "(1259, 206)\n",
      "(554, 204)\n"
     ]
    }
   ],
   "source": [
    "print(train[train[\"lnd_ar\"]==0].shape)\n",
    "print(val[val[\"lnd_ar\"]==0].shape)\n",
    "print(test[test[\"lnd_ar\"]==0].shape)"
   ]
  },
  {
   "cell_type": "code",
   "execution_count": null,
   "metadata": {},
   "outputs": [],
   "source": []
  },
  {
   "cell_type": "code",
   "execution_count": null,
   "metadata": {},
   "outputs": [],
   "source": []
  },
  {
   "cell_type": "code",
   "execution_count": 71,
   "metadata": {},
   "outputs": [
    {
     "data": {
      "text/plain": [
       "<seaborn.axisgrid.FacetGrid at 0x28762e0b898>"
      ]
     },
     "execution_count": 71,
     "metadata": {},
     "output_type": "execute_result"
    },
    {
     "data": {
      "image/png": "[encoded data removed]",
      "text/plain": [
       "<Figure size 402.375x360 with 1 Axes>"
      ]
     },
     "metadata": {
      "needs_background": "light"
     },
     "output_type": "display_data"
    }
   ],
   "source": [
    "bldng_ar_notnull = train[train[\"bldng_ar\"]!=0]\n",
    "sns.lmplot(data=bldng_ar_notnull, x=\"bldng_ar\", y=\"ttl_ar\", hue=\"fr_yn\", fit_reg=False)"
   ]
  },
  {
   "cell_type": "code",
   "execution_count": 72,
   "metadata": {},
   "outputs": [
    {
     "data": {
      "text/plain": [
       "(47191, 216)"
      ]
     },
     "execution_count": 72,
     "metadata": {},
     "output_type": "execute_result"
    }
   ],
   "source": [
    "low_bldng_ar = train[(train[\"bldng_ar\"]<4000)&(train[\"bldng_ar\"]>0)&(train[\"ttl_ar\"]<3000)&(train[\"ttl_ar\"]>0)]\n",
    "low_bldng_ar.shape"
   ]
  },
  {
   "cell_type": "code",
   "execution_count": 73,
   "metadata": {},
   "outputs": [
    {
     "data": {
      "text/plain": [
       "<seaborn.axisgrid.FacetGrid at 0x287006dc240>"
      ]
     },
     "execution_count": 73,
     "metadata": {},
     "output_type": "execute_result"
    },
    {
     "data": {
      "image/png": "[encoded data removed]",
      "text/plain": [
       "<Figure size 402.375x360 with 1 Axes>"
      ]
     },
     "metadata": {
      "needs_background": "light"
     },
     "output_type": "display_data"
    }
   ],
   "source": [
    "sns.lmplot(data=low_bldng_ar, x=\"bldng_ar\", y=\"ttl_ar\", hue=\"fr_yn\", fit_reg=False)"
   ]
  },
  {
   "cell_type": "code",
   "execution_count": 74,
   "metadata": {},
   "outputs": [],
   "source": [
    "low_bldng_ar = train[(train[\"bldng_ar\"]<4000)&(train[\"bldng_ar\"]>0)\n",
    "                     &(train[\"ttl_ar\"]<3000)&(train[\"ttl_ar\"]>0)\n",
    "                     &(train[\"lnd_ar\"]<4000)&(train[\"lnd_ar\"]>0)]"
   ]
  },
  {
   "cell_type": "code",
   "execution_count": 75,
   "metadata": {},
   "outputs": [
    {
     "name": "stderr",
     "output_type": "stream",
     "text": [
      "C:\\Users\\ejvmw\\Anaconda3\\lib\\site-packages\\seaborn\\regression.py:546: UserWarning: The `size` paramter has been renamed to `height`; please update your code.\n",
      "  warnings.warn(msg, UserWarning)\n"
     ]
    },
    {
     "data": {
      "text/plain": [
       "<seaborn.axisgrid.FacetGrid at 0x2870070dfd0>"
      ]
     },
     "execution_count": 75,
     "metadata": {},
     "output_type": "execute_result"
    },
    {
     "data": {
      "image/png": "[encoded data removed]",
      "text/plain": [
       "<Figure size 762.375x720 with 1 Axes>"
      ]
     },
     "metadata": {
      "needs_background": "light"
     },
     "output_type": "display_data"
    }
   ],
   "source": [
    "sns.lmplot(data=low_bldng_ar, x=\"bldng_ar\", y=\"lnd_ar\", hue=\"fr_yn\", fit_reg=False, size=10)"
   ]
  },
  {
   "cell_type": "code",
   "execution_count": 76,
   "metadata": {
    "scrolled": false
   },
   "outputs": [
    {
     "data": {
      "text/plain": [
       "<seaborn.axisgrid.FacetGrid at 0x287007bfb70>"
      ]
     },
     "execution_count": 76,
     "metadata": {},
     "output_type": "execute_result"
    },
    {
     "data": {
      "image/png": "[encoded data removed]",
      "text/plain": [
       "<Figure size 762.375x720 with 1 Axes>"
      ]
     },
     "metadata": {
      "needs_background": "light"
     },
     "output_type": "display_data"
    }
   ],
   "source": [
    "sns.lmplot(data=low_bldng_ar, x=\"ttl_ar\", y=\"lnd_ar\", hue=\"fr_yn\", fit_reg=False, size=10)"
   ]
  },
  {
   "cell_type": "code",
   "execution_count": 77,
   "metadata": {},
   "outputs": [
    {
     "data": {
      "text/plain": [
       "(29339, 216)"
      ]
     },
     "execution_count": 77,
     "metadata": {},
     "output_type": "execute_result"
    }
   ],
   "source": [
    "low_low_bldng_ar = train[(train[\"bldng_ar\"]<1500)&(train[\"bldng_ar\"]>0)\n",
    "                     &(train[\"ttl_ar\"]<2000)&(train[\"ttl_ar\"]>0)\n",
    "                     &(train[\"lnd_ar\"]<2000)&(train[\"lnd_ar\"]>0)]\n",
    "low_low_bldng_ar.shape"
   ]
  },
  {
   "cell_type": "code",
   "execution_count": 78,
   "metadata": {},
   "outputs": [
    {
     "data": {
      "text/plain": [
       "<seaborn.axisgrid.FacetGrid at 0x287011176a0>"
      ]
     },
     "execution_count": 78,
     "metadata": {},
     "output_type": "execute_result"
    },
    {
     "data": {
      "image/png": "[encoded data removed]",
      "text/plain": [
       "<Figure size 762.375x720 with 1 Axes>"
      ]
     },
     "metadata": {
      "needs_background": "light"
     },
     "output_type": "display_data"
    }
   ],
   "source": [
    "sns.lmplot(data=low_low_bldng_ar, x=\"bldng_ar\", y=\"ttl_ar\", hue=\"fr_yn\", fit_reg=False, size=10)"
   ]
  },
  {
   "cell_type": "code",
   "execution_count": null,
   "metadata": {},
   "outputs": [],
   "source": []
  },
  {
   "cell_type": "code",
   "execution_count": null,
   "metadata": {},
   "outputs": [],
   "source": []
  },
  {
   "cell_type": "code",
   "execution_count": null,
   "metadata": {},
   "outputs": [],
   "source": []
  },
  {
   "cell_type": "code",
   "execution_count": null,
   "metadata": {},
   "outputs": [],
   "source": []
  },
  {
   "cell_type": "code",
   "execution_count": null,
   "metadata": {},
   "outputs": [],
   "source": []
  },
  {
   "cell_type": "code",
   "execution_count": null,
   "metadata": {},
   "outputs": [],
   "source": []
  },
  {
   "cell_type": "code",
   "execution_count": null,
   "metadata": {},
   "outputs": [],
   "source": []
  },
  {
   "cell_type": "code",
   "execution_count": null,
   "metadata": {},
   "outputs": [],
   "source": []
  },
  {
   "cell_type": "code",
   "execution_count": null,
   "metadata": {
    "scrolled": true
   },
   "outputs": [],
   "source": []
  },
  {
   "cell_type": "code",
   "execution_count": 79,
   "metadata": {},
   "outputs": [
    {
     "data": {
      "text/plain": [
       "(9660, 216)"
      ]
     },
     "execution_count": 79,
     "metadata": {},
     "output_type": "execute_result"
    }
   ],
   "source": [
    "train[train[\"bldng_ar\"]==0].shape"
   ]
  },
  {
   "cell_type": "code",
   "execution_count": 80,
   "metadata": {
    "scrolled": false
   },
   "outputs": [
    {
     "data": {
      "text/plain": [
       "count     59199.000000\n",
       "mean        633.562740\n",
       "std        9211.774472\n",
       "min           0.000000\n",
       "25%          46.280000\n",
       "50%          87.730000\n",
       "75%         155.100000\n",
       "max      572897.955000\n",
       "Name: bldng_ar, dtype: float64"
      ]
     },
     "execution_count": 80,
     "metadata": {},
     "output_type": "execute_result"
    }
   ],
   "source": [
    "train[\"bldng_ar\"].describe()"
   ]
  },
  {
   "cell_type": "code",
   "execution_count": 81,
   "metadata": {},
   "outputs": [
    {
     "data": {
      "text/plain": [
       "2477.958209555566"
      ]
     },
     "execution_count": 81,
     "metadata": {},
     "output_type": "execute_result"
    }
   ],
   "source": [
    "train[\"ttl_ar\"].mean()"
   ]
  },
  {
   "cell_type": "code",
   "execution_count": 82,
   "metadata": {},
   "outputs": [
    {
     "data": {
      "text/plain": [
       "97.2"
      ]
     },
     "execution_count": 82,
     "metadata": {},
     "output_type": "execute_result"
    }
   ],
   "source": [
    "train[\"ttl_ar\"].median()"
   ]
  },
  {
   "cell_type": "code",
   "execution_count": 83,
   "metadata": {},
   "outputs": [],
   "source": [
    "train.loc[train[\"bldng_ar\"]==0, \"bldng_ar\"] = train[\"bldng_ar\"].median()\n",
    "train.loc[train[\"ttl_ar\"]==0, \"ttl_ar\"] = train[\"ttl_ar\"].median()\n",
    "\n",
    "val.loc[val[\"bldng_ar\"]==0, \"bldng_ar\"] = val[\"bldng_ar\"].median()\n",
    "val.loc[val[\"ttl_ar\"]==0, \"ttl_ar\"] = val[\"ttl_ar\"].median()\n",
    "\n",
    "test.loc[test[\"bldng_ar\"]==0, \"bldng_ar\"] = test[\"bldng_ar\"].median()\n",
    "test.loc[test[\"ttl_ar\"]==0, \"ttl_ar\"] = test[\"ttl_ar\"].median()\n"
   ]
  },
  {
   "cell_type": "code",
   "execution_count": 84,
   "metadata": {},
   "outputs": [],
   "source": [
    "#train[\"floors\"] = train[\"ttl_ar\"] / train[\"bldng_ar\"]\n",
    "#train[\"floors\"].head()"
   ]
  },
  {
   "cell_type": "code",
   "execution_count": null,
   "metadata": {},
   "outputs": [],
   "source": []
  },
  {
   "cell_type": "code",
   "execution_count": null,
   "metadata": {},
   "outputs": [],
   "source": []
  },
  {
   "cell_type": "code",
   "execution_count": 85,
   "metadata": {},
   "outputs": [],
   "source": [
    "train = train.drop(\"lnd_ar\", 1)\n",
    "val = val.drop(\"lnd_ar\", 1)\n",
    "test = test.drop(\"lnd_ar\", 1)"
   ]
  },
  {
   "cell_type": "code",
   "execution_count": null,
   "metadata": {},
   "outputs": [],
   "source": []
  },
  {
   "cell_type": "markdown",
   "metadata": {},
   "source": [
    "### dt_of_athrztn 건물승인날짜"
   ]
  },
  {
   "cell_type": "code",
   "execution_count": 86,
   "metadata": {},
   "outputs": [
    {
     "data": {
      "text/plain": [
       "0        1977.0\n",
       "1           nan\n",
       "2    20001104.0\n",
       "3          1936\n",
       "4           nan\n",
       "Name: dt_of_athrztn, dtype: object"
      ]
     },
     "execution_count": 86,
     "metadata": {},
     "output_type": "execute_result"
    }
   ],
   "source": [
    "train[\"dt_of_athrztn\"].head()"
   ]
  },
  {
   "cell_type": "code",
   "execution_count": 87,
   "metadata": {},
   "outputs": [],
   "source": [
    "train[\"year_athrztn\"] = train[\"dt_of_athrztn\"].str[:4]\n",
    "val[\"year_athrztn\"] = val[\"dt_of_athrztn\"].str[:4]\n",
    "test[\"year_athrztn\"]=test[\"dt_of_athrztn\"].str[:4]"
   ]
  },
  {
   "cell_type": "code",
   "execution_count": 88,
   "metadata": {},
   "outputs": [],
   "source": [
    "year_athrztn_notnull = train[(train[\"year_athrztn\"]!=\"nan\")]\n",
    "year_athrztn_YYYY = year_athrztn_notnull[year_athrztn_notnull[\"year_athrztn\"].astype(int)<3000]\n",
    "year_athrztn_YY = year_athrztn_notnull[year_athrztn_notnull[\"year_athrztn\"].astype(int)>3000]\n",
    "year_athrztn_null = train[train[\"year_athrztn\"]==\"nan\"]"
   ]
  },
  {
   "cell_type": "code",
   "execution_count": 89,
   "metadata": {},
   "outputs": [
    {
     "name": "stdout",
     "output_type": "stream",
     "text": [
      "(31612, 216)\n",
      "(6, 216)\n",
      "(27581, 216)\n"
     ]
    }
   ],
   "source": [
    "print(year_athrztn_YYYY.shape)\n",
    "print(year_athrztn_YY.shape)\n",
    "print(year_athrztn_null.shape)"
   ]
  },
  {
   "cell_type": "code",
   "execution_count": 90,
   "metadata": {},
   "outputs": [
    {
     "data": {
      "text/plain": [
       "0    1977\n",
       "2    2000\n",
       "3    1936\n",
       "5    2015\n",
       "7    1994\n",
       "Name: year_athrztn, dtype: object"
      ]
     },
     "execution_count": 90,
     "metadata": {},
     "output_type": "execute_result"
    }
   ],
   "source": [
    "year_athrztn_YYYY[\"year_athrztn\"].head()"
   ]
  },
  {
   "cell_type": "code",
   "execution_count": 91,
   "metadata": {},
   "outputs": [
    {
     "data": {
      "text/plain": [
       "12642    9800\n",
       "21218    9900\n",
       "26351    9990\n",
       "30954    9820\n",
       "38448    9780\n",
       "Name: year_athrztn, dtype: object"
      ]
     },
     "execution_count": 91,
     "metadata": {},
     "output_type": "execute_result"
    }
   ],
   "source": [
    "year_athrztn_YY[\"year_athrztn\"].head()"
   ]
  },
  {
   "cell_type": "code",
   "execution_count": 92,
   "metadata": {
    "scrolled": true
   },
   "outputs": [
    {
     "name": "stderr",
     "output_type": "stream",
     "text": [
      "C:\\Users\\ejvmw\\Anaconda3\\lib\\site-packages\\ipykernel_launcher.py:1: SettingWithCopyWarning: \n",
      "A value is trying to be set on a copy of a slice from a DataFrame.\n",
      "Try using .loc[row_indexer,col_indexer] = value instead\n",
      "\n",
      "See the caveats in the documentation: http://pandas.pydata.org/pandas-docs/stable/indexing.html#indexing-view-versus-copy\n",
      "  \"\"\"Entry point for launching an IPython kernel.\n"
     ]
    }
   ],
   "source": [
    "year_athrztn_YY[\"year_athrztn\"] = 1900 + year_athrztn_YY[\"dt_of_athrztn\"].str[:2].astype(int)"
   ]
  },
  {
   "cell_type": "code",
   "execution_count": null,
   "metadata": {},
   "outputs": [],
   "source": []
  },
  {
   "cell_type": "code",
   "execution_count": 93,
   "metadata": {},
   "outputs": [
    {
     "data": {
      "text/plain": [
       "1993.0"
      ]
     },
     "execution_count": 93,
     "metadata": {},
     "output_type": "execute_result"
    }
   ],
   "source": [
    "year_athrztn_notnull = year_athrztn_YYYY.append(year_athrztn_YY)\n",
    "year_athrztn_median=year_athrztn_notnull[\"year_athrztn\"].median()\n",
    "year_athrztn_median"
   ]
  },
  {
   "cell_type": "code",
   "execution_count": 94,
   "metadata": {},
   "outputs": [
    {
     "name": "stderr",
     "output_type": "stream",
     "text": [
      "C:\\Users\\ejvmw\\Anaconda3\\lib\\site-packages\\ipykernel_launcher.py:1: SettingWithCopyWarning: \n",
      "A value is trying to be set on a copy of a slice from a DataFrame.\n",
      "Try using .loc[row_indexer,col_indexer] = value instead\n",
      "\n",
      "See the caveats in the documentation: http://pandas.pydata.org/pandas-docs/stable/indexing.html#indexing-view-versus-copy\n",
      "  \"\"\"Entry point for launching an IPython kernel.\n"
     ]
    }
   ],
   "source": [
    "year_athrztn_null[\"year_athrztn\"]=year_athrztn_median"
   ]
  },
  {
   "cell_type": "code",
   "execution_count": 95,
   "metadata": {},
   "outputs": [
    {
     "data": {
      "text/plain": [
       "(59199, 216)"
      ]
     },
     "execution_count": 95,
     "metadata": {},
     "output_type": "execute_result"
    }
   ],
   "source": [
    "train = year_athrztn_notnull.append(year_athrztn_null)\n",
    "train.shape"
   ]
  },
  {
   "cell_type": "code",
   "execution_count": 96,
   "metadata": {},
   "outputs": [],
   "source": [
    "val.loc[val[\"year_athrztn\"]==\"nan\",\"year_athrztn\"]= val[val[\"year_athrztn\"]!=\"nan\"][\"year_athrztn\"].median()\n",
    "test.loc[test[\"year_athrztn\"]==\"nan\",\"year_athrztn\"]= test[test[\"year_athrztn\"]!=\"nan\"][\"year_athrztn\"].median()"
   ]
  },
  {
   "cell_type": "code",
   "execution_count": 97,
   "metadata": {},
   "outputs": [],
   "source": [
    "train[\"year_athrztn\"] = train[\"year_athrztn\"].astype(int)\n",
    "val[\"year_athrztn\"] = val[\"year_athrztn\"].astype(int)\n",
    "test[\"year_athrztn\"] = test[\"year_athrztn\"].astype(int)\n"
   ]
  },
  {
   "cell_type": "code",
   "execution_count": 98,
   "metadata": {},
   "outputs": [],
   "source": [
    "train.reset_index(inplace=True)\n",
    "train.drop('index',inplace=True,axis=1)"
   ]
  },
  {
   "cell_type": "code",
   "execution_count": null,
   "metadata": {},
   "outputs": [],
   "source": []
  },
  {
   "cell_type": "code",
   "execution_count": 99,
   "metadata": {},
   "outputs": [],
   "source": [
    "\n",
    "train.loc[train[\"year_athrztn\"]<2000,\"year_athrztn_encoded\"] = \"old\"\n",
    "train.loc[train[\"year_athrztn\"]>1999,\"year_athrztn_encoded\"] = \"new\"\n",
    "\n",
    "val.loc[val[\"year_athrztn\"]<2000,\"year_athrztn_encoded\"] = \"old\"\n",
    "val.loc[val[\"year_athrztn\"]>1999,\"year_athrztn_encoded\"] = \"new\"\n",
    "\n",
    "test.loc[test[\"year_athrztn\"]<2000,\"year_athrztn_encoded\"] = \"old\"\n",
    "test.loc[test[\"year_athrztn\"]>1999,\"year_athrztn_encoded\"] = \"new\""
   ]
  },
  {
   "cell_type": "code",
   "execution_count": 100,
   "metadata": {},
   "outputs": [
    {
     "data": {
      "text/html": [
       "<div>\n",
       "<style scoped>\n",
       "    .dataframe tbody tr th:only-of-type {\n",
       "        vertical-align: middle;\n",
       "    }\n",
       "\n",
       "    .dataframe tbody tr th {\n",
       "        vertical-align: top;\n",
       "    }\n",
       "\n",
       "    .dataframe thead th {\n",
       "        text-align: right;\n",
       "    }\n",
       "</style>\n",
       "<table border=\"1\" class=\"dataframe\">\n",
       "  <thead>\n",
       "    <tr style=\"text-align: right;\">\n",
       "      <th></th>\n",
       "      <th>fr_yn</th>\n",
       "    </tr>\n",
       "    <tr>\n",
       "      <th>year_athrztn_encoded</th>\n",
       "      <th></th>\n",
       "    </tr>\n",
       "  </thead>\n",
       "  <tbody>\n",
       "    <tr>\n",
       "      <th>new</th>\n",
       "      <td>0.300941</td>\n",
       "    </tr>\n",
       "    <tr>\n",
       "      <th>old</th>\n",
       "      <td>0.093631</td>\n",
       "    </tr>\n",
       "  </tbody>\n",
       "</table>\n",
       "</div>"
      ],
      "text/plain": [
       "                         fr_yn\n",
       "year_athrztn_encoded          \n",
       "new                   0.300941\n",
       "old                   0.093631"
      ]
     },
     "execution_count": 100,
     "metadata": {},
     "output_type": "execute_result"
    }
   ],
   "source": [
    "pd.pivot_table(train, index=\"year_athrztn_encoded\", values=\"fr_yn\")"
   ]
  },
  {
   "cell_type": "code",
   "execution_count": null,
   "metadata": {},
   "outputs": [],
   "source": []
  },
  {
   "cell_type": "code",
   "execution_count": 101,
   "metadata": {},
   "outputs": [],
   "source": [
    "train = train.drop(\"dt_of_athrztn\", 1)\n",
    "val = val.drop(\"dt_of_athrztn\", 1)\n",
    "test = test.drop(\"dt_of_athrztn\", 1)"
   ]
  },
  {
   "cell_type": "code",
   "execution_count": null,
   "metadata": {},
   "outputs": [],
   "source": []
  },
  {
   "cell_type": "markdown",
   "metadata": {},
   "source": [
    "## part 3"
   ]
  },
  {
   "cell_type": "markdown",
   "metadata": {},
   "source": [
    "### ele_energy_us_YYYYMM 전기 에너지 사용량 (YYYY년 M월)"
   ]
  },
  {
   "cell_type": "code",
   "execution_count": null,
   "metadata": {},
   "outputs": [],
   "source": []
  },
  {
   "cell_type": "code",
   "execution_count": null,
   "metadata": {},
   "outputs": [],
   "source": []
  },
  {
   "cell_type": "code",
   "execution_count": null,
   "metadata": {},
   "outputs": [],
   "source": []
  },
  {
   "cell_type": "code",
   "execution_count": null,
   "metadata": {},
   "outputs": [],
   "source": []
  },
  {
   "cell_type": "code",
   "execution_count": null,
   "metadata": {},
   "outputs": [],
   "source": []
  },
  {
   "cell_type": "code",
   "execution_count": null,
   "metadata": {},
   "outputs": [],
   "source": []
  },
  {
   "cell_type": "code",
   "execution_count": null,
   "metadata": {},
   "outputs": [],
   "source": []
  },
  {
   "cell_type": "code",
   "execution_count": null,
   "metadata": {},
   "outputs": [],
   "source": []
  },
  {
   "cell_type": "code",
   "execution_count": null,
   "metadata": {},
   "outputs": [],
   "source": []
  },
  {
   "cell_type": "code",
   "execution_count": null,
   "metadata": {},
   "outputs": [],
   "source": []
  },
  {
   "cell_type": "code",
   "execution_count": null,
   "metadata": {},
   "outputs": [],
   "source": []
  },
  {
   "cell_type": "code",
   "execution_count": null,
   "metadata": {},
   "outputs": [],
   "source": []
  },
  {
   "cell_type": "code",
   "execution_count": null,
   "metadata": {},
   "outputs": [],
   "source": []
  },
  {
   "cell_type": "markdown",
   "metadata": {},
   "source": [
    "## part5"
   ]
  },
  {
   "cell_type": "markdown",
   "metadata": {},
   "source": [
    "### trgt_cnt 소방점검대상물기준"
   ]
  },
  {
   "cell_type": "code",
   "execution_count": 102,
   "metadata": {},
   "outputs": [
    {
     "data": {
      "text/plain": [
       "(8177, 216)"
      ]
     },
     "execution_count": 102,
     "metadata": {},
     "output_type": "execute_result"
    }
   ],
   "source": [
    "train[train[\"trgt_crtr\"].notnull()].shape"
   ]
  },
  {
   "cell_type": "code",
   "execution_count": 103,
   "metadata": {},
   "outputs": [
    {
     "data": {
      "text/plain": [
       "일반대상물                        7589\n",
       "민박7실이하                        294\n",
       "자동화재탐지설치대상                    146\n",
       "옥내소화전설치대상                      69\n",
       "스프링클러,물분무등설치대상                 28\n",
       "민박7실이상                         16\n",
       "펜션7실이하                         12\n",
       "공동주택(주택법시행령제63조제1항각호1에해당)       6\n",
       "연면적 15,000 이상                   6\n",
       "펜션7실이상                          2\n",
       "11층이상                           2\n",
       "기타(가설건축물분류)                     2\n",
       "견본주택(모델하우스)                     1\n",
       "기타                              1\n",
       "콘테이너하우스                         1\n",
       "주거용비닐하우스                        1\n",
       "임시사무실,창고,숙소                     1\n",
       "dtype: int64"
      ]
     },
     "execution_count": 103,
     "metadata": {},
     "output_type": "execute_result"
    }
   ],
   "source": [
    "pd.value_counts(train[\"trgt_crtr\"].values.flatten())"
   ]
  },
  {
   "cell_type": "code",
   "execution_count": 104,
   "metadata": {},
   "outputs": [
    {
     "data": {
      "text/html": [
       "<div>\n",
       "<style scoped>\n",
       "    .dataframe tbody tr th:only-of-type {\n",
       "        vertical-align: middle;\n",
       "    }\n",
       "\n",
       "    .dataframe tbody tr th {\n",
       "        vertical-align: top;\n",
       "    }\n",
       "\n",
       "    .dataframe thead th {\n",
       "        text-align: right;\n",
       "    }\n",
       "</style>\n",
       "<table border=\"1\" class=\"dataframe\">\n",
       "  <thead>\n",
       "    <tr style=\"text-align: right;\">\n",
       "      <th></th>\n",
       "      <th>fr_yn</th>\n",
       "    </tr>\n",
       "    <tr>\n",
       "      <th>trgt_crtr</th>\n",
       "      <th></th>\n",
       "    </tr>\n",
       "  </thead>\n",
       "  <tbody>\n",
       "    <tr>\n",
       "      <th>11층이상</th>\n",
       "      <td>0.500000</td>\n",
       "    </tr>\n",
       "    <tr>\n",
       "      <th>견본주택(모델하우스)</th>\n",
       "      <td>0.000000</td>\n",
       "    </tr>\n",
       "    <tr>\n",
       "      <th>공동주택(주택법시행령제63조제1항각호1에해당)</th>\n",
       "      <td>0.833333</td>\n",
       "    </tr>\n",
       "    <tr>\n",
       "      <th>기타</th>\n",
       "      <td>1.000000</td>\n",
       "    </tr>\n",
       "    <tr>\n",
       "      <th>기타(가설건축물분류)</th>\n",
       "      <td>0.000000</td>\n",
       "    </tr>\n",
       "    <tr>\n",
       "      <th>민박7실이상</th>\n",
       "      <td>0.062500</td>\n",
       "    </tr>\n",
       "    <tr>\n",
       "      <th>민박7실이하</th>\n",
       "      <td>0.187075</td>\n",
       "    </tr>\n",
       "    <tr>\n",
       "      <th>스프링클러,물분무등설치대상</th>\n",
       "      <td>0.500000</td>\n",
       "    </tr>\n",
       "    <tr>\n",
       "      <th>연면적 15,000 이상</th>\n",
       "      <td>0.333333</td>\n",
       "    </tr>\n",
       "    <tr>\n",
       "      <th>옥내소화전설치대상</th>\n",
       "      <td>0.391304</td>\n",
       "    </tr>\n",
       "    <tr>\n",
       "      <th>일반대상물</th>\n",
       "      <td>0.161681</td>\n",
       "    </tr>\n",
       "    <tr>\n",
       "      <th>임시사무실,창고,숙소</th>\n",
       "      <td>0.000000</td>\n",
       "    </tr>\n",
       "    <tr>\n",
       "      <th>자동화재탐지설치대상</th>\n",
       "      <td>0.383562</td>\n",
       "    </tr>\n",
       "    <tr>\n",
       "      <th>주거용비닐하우스</th>\n",
       "      <td>0.000000</td>\n",
       "    </tr>\n",
       "    <tr>\n",
       "      <th>콘테이너하우스</th>\n",
       "      <td>0.000000</td>\n",
       "    </tr>\n",
       "    <tr>\n",
       "      <th>펜션7실이상</th>\n",
       "      <td>0.000000</td>\n",
       "    </tr>\n",
       "    <tr>\n",
       "      <th>펜션7실이하</th>\n",
       "      <td>0.416667</td>\n",
       "    </tr>\n",
       "  </tbody>\n",
       "</table>\n",
       "</div>"
      ],
      "text/plain": [
       "                              fr_yn\n",
       "trgt_crtr                          \n",
       "11층이상                      0.500000\n",
       "견본주택(모델하우스)                0.000000\n",
       "공동주택(주택법시행령제63조제1항각호1에해당)  0.833333\n",
       "기타                         1.000000\n",
       "기타(가설건축물분류)                0.000000\n",
       "민박7실이상                     0.062500\n",
       "민박7실이하                     0.187075\n",
       "스프링클러,물분무등설치대상             0.500000\n",
       "연면적 15,000 이상              0.333333\n",
       "옥내소화전설치대상                  0.391304\n",
       "일반대상물                      0.161681\n",
       "임시사무실,창고,숙소                0.000000\n",
       "자동화재탐지설치대상                 0.383562\n",
       "주거용비닐하우스                   0.000000\n",
       "콘테이너하우스                    0.000000\n",
       "펜션7실이상                     0.000000\n",
       "펜션7실이하                     0.416667"
      ]
     },
     "execution_count": 104,
     "metadata": {},
     "output_type": "execute_result"
    }
   ],
   "source": [
    "pd.pivot_table(train, index=\"trgt_crtr\", values=\"fr_yn\")"
   ]
  },
  {
   "cell_type": "code",
   "execution_count": 105,
   "metadata": {},
   "outputs": [
    {
     "data": {
      "text/plain": [
       "일반대상물             192\n",
       "자동화재탐지설치대상         18\n",
       "옥내소화전설치대상          15\n",
       "스프링클러,물분무등설치대상      7\n",
       "민박7실이하              1\n",
       "dtype: int64"
      ]
     },
     "execution_count": 105,
     "metadata": {},
     "output_type": "execute_result"
    }
   ],
   "source": [
    "pd.value_counts(test[\"trgt_crtr\"].values.flatten())"
   ]
  },
  {
   "cell_type": "code",
   "execution_count": 106,
   "metadata": {},
   "outputs": [
    {
     "data": {
      "text/plain": [
       "일반대상물             430\n",
       "자동화재탐지설치대상         34\n",
       "스프링클러,물분무등설치대상     18\n",
       "옥내소화전설치대상          16\n",
       "민박7실이하              4\n",
       "펜션7실이상              1\n",
       "민박7실이상              1\n",
       "dtype: int64"
      ]
     },
     "execution_count": 106,
     "metadata": {},
     "output_type": "execute_result"
    }
   ],
   "source": [
    "pd.value_counts(val[\"trgt_crtr\"].values.flatten())"
   ]
  },
  {
   "cell_type": "code",
   "execution_count": 107,
   "metadata": {},
   "outputs": [
    {
     "data": {
      "text/plain": [
       "일반대상물             192\n",
       "자동화재탐지설치대상         18\n",
       "옥내소화전설치대상          15\n",
       "스프링클러,물분무등설치대상      7\n",
       "민박7실이하              1\n",
       "dtype: int64"
      ]
     },
     "execution_count": 107,
     "metadata": {},
     "output_type": "execute_result"
    }
   ],
   "source": [
    "pd.value_counts(test[\"trgt_crtr\"].values.flatten())"
   ]
  },
  {
   "cell_type": "code",
   "execution_count": 108,
   "metadata": {},
   "outputs": [],
   "source": [
    "train.loc[train[\"trgt_crtr\"]==\"자동화재탐지설치대상\", \"auto_fr\"] = 1\n",
    "train.loc[train[\"trgt_crtr\"]!=\"자동화재탐지설치대상\", \"auto_fr\"] = 0\n",
    "train.loc[train[\"trgt_crtr\"]==\"옥내소화전설치대상\", \"fireplug\"] = 1\n",
    "train.loc[train[\"trgt_crtr\"]!=\"옥내소화전설치대상\", \"fireplug\"] = 0\n",
    "train.loc[train[\"trgt_crtr\"]==\"스프링클러,물분무등설치대상\", \"sprinkler\"] = 1\n",
    "train.loc[train[\"trgt_crtr\"]!=\"스프링클러,물분무등설치대상\", \"sprinkler\"] = 0\n",
    "\n",
    "\n",
    "val.loc[val[\"trgt_crtr\"]==\"자동화재탐지설치대상\", \"auto_fr\"] = 1\n",
    "val.loc[val[\"trgt_crtr\"]!=\"자동화재탐지설치대상\", \"auto_fr\"] = 0\n",
    "val.loc[val[\"trgt_crtr\"]==\"옥내소화전설치대상\", \"fireplug\"] = 1\n",
    "val.loc[val[\"trgt_crtr\"]!=\"옥내소화전설치대상\", \"fireplug\"] = 0\n",
    "val.loc[val[\"trgt_crtr\"]==\"스프링클러,물분무등설치대상\", \"sprinkler\"] = 1\n",
    "val.loc[val[\"trgt_crtr\"]!=\"스프링클러,물분무등설치대상\", \"sprinkler\"] = 0\n",
    "\n",
    "test.loc[test[\"trgt_crtr\"]==\"자동화재탐지설치대상\", \"auto_fr\"] = 1\n",
    "test.loc[test[\"trgt_crtr\"]!=\"자동화재탐지설치대상\", \"auto_fr\"] = 0\n",
    "test.loc[test[\"trgt_crtr\"]==\"옥내소화전설치대상\", \"fireplug\"] = 1\n",
    "test.loc[test[\"trgt_crtr\"]!=\"옥내소화전설치대상\", \"fireplug\"] = 0\n",
    "test.loc[test[\"trgt_crtr\"]==\"스프링클러,물분무등설치대상\", \"sprinkler\"] = 1\n",
    "test.loc[test[\"trgt_crtr\"]!=\"스프링클러,물분무등설치대상\", \"sprinkler\"] = 0"
   ]
  },
  {
   "cell_type": "code",
   "execution_count": null,
   "metadata": {},
   "outputs": [],
   "source": []
  },
  {
   "cell_type": "code",
   "execution_count": 109,
   "metadata": {},
   "outputs": [],
   "source": [
    "train = train.drop(\"trgt_crtr\", 1)\n",
    "val = val.drop(\"trgt_crtr\", 1)\n",
    "test = test.drop(\"trgt_crtr\", 1)"
   ]
  },
  {
   "cell_type": "code",
   "execution_count": null,
   "metadata": {},
   "outputs": [],
   "source": []
  },
  {
   "cell_type": "markdown",
   "metadata": {},
   "source": [
    "### fr_fghtng_fclt_spcl_css_5_yn & fr_fghtng_fclt_spcl_css_6_yn 소방시설특례 5,6호 여부"
   ]
  },
  {
   "cell_type": "code",
   "execution_count": 110,
   "metadata": {},
   "outputs": [],
   "source": [
    "#공란, N, NA로 구성"
   ]
  },
  {
   "cell_type": "code",
   "execution_count": 111,
   "metadata": {},
   "outputs": [
    {
     "data": {
      "text/plain": [
       "(50762, 218)"
      ]
     },
     "execution_count": 111,
     "metadata": {},
     "output_type": "execute_result"
    }
   ],
   "source": [
    "train[train[\"fr_fghtng_fclt_spcl_css_5_yn\"].isnull()].shape"
   ]
  },
  {
   "cell_type": "code",
   "execution_count": 112,
   "metadata": {},
   "outputs": [
    {
     "data": {
      "text/plain": [
       "(8437, 218)"
      ]
     },
     "execution_count": 112,
     "metadata": {},
     "output_type": "execute_result"
    }
   ],
   "source": [
    "train[train[\"fr_fghtng_fclt_spcl_css_5_yn\"].notnull()].shape"
   ]
  },
  {
   "cell_type": "code",
   "execution_count": 113,
   "metadata": {},
   "outputs": [
    {
     "data": {
      "text/plain": [
       "(8437, 218)"
      ]
     },
     "execution_count": 113,
     "metadata": {},
     "output_type": "execute_result"
    }
   ],
   "source": [
    "train[train[\"fr_fghtng_fclt_spcl_css_5_yn\"]==\"N\"].shape"
   ]
  },
  {
   "cell_type": "code",
   "execution_count": 114,
   "metadata": {},
   "outputs": [
    {
     "data": {
      "text/plain": [
       "(2400, 206)"
      ]
     },
     "execution_count": 114,
     "metadata": {},
     "output_type": "execute_result"
    }
   ],
   "source": [
    "test[test[\"fr_fghtng_fclt_spcl_css_5_yn\"].isnull()].shape"
   ]
  },
  {
   "cell_type": "code",
   "execution_count": 115,
   "metadata": {},
   "outputs": [
    {
     "data": {
      "text/plain": [
       "(557, 206)"
      ]
     },
     "execution_count": 115,
     "metadata": {},
     "output_type": "execute_result"
    }
   ],
   "source": [
    "test[test[\"fr_fghtng_fclt_spcl_css_5_yn\"].notnull()].shape"
   ]
  },
  {
   "cell_type": "code",
   "execution_count": 116,
   "metadata": {},
   "outputs": [],
   "source": [
    "train.loc[train[\"fr_fghtng_fclt_spcl_css_5_yn\"].isnull(),\"css_5_yn_encoded\"]=0\n",
    "train.loc[train[\"fr_fghtng_fclt_spcl_css_5_yn\"].notnull(),\"css_5_yn_encoded\"]=1"
   ]
  },
  {
   "cell_type": "code",
   "execution_count": 117,
   "metadata": {},
   "outputs": [
    {
     "data": {
      "text/html": [
       "<div>\n",
       "<style scoped>\n",
       "    .dataframe tbody tr th:only-of-type {\n",
       "        vertical-align: middle;\n",
       "    }\n",
       "\n",
       "    .dataframe tbody tr th {\n",
       "        vertical-align: top;\n",
       "    }\n",
       "\n",
       "    .dataframe thead th {\n",
       "        text-align: right;\n",
       "    }\n",
       "</style>\n",
       "<table border=\"1\" class=\"dataframe\">\n",
       "  <thead>\n",
       "    <tr style=\"text-align: right;\">\n",
       "      <th></th>\n",
       "      <th>fr_yn</th>\n",
       "    </tr>\n",
       "    <tr>\n",
       "      <th>css_5_yn_encoded</th>\n",
       "      <th></th>\n",
       "    </tr>\n",
       "  </thead>\n",
       "  <tbody>\n",
       "    <tr>\n",
       "      <th>0.0</th>\n",
       "      <td>0.119184</td>\n",
       "    </tr>\n",
       "    <tr>\n",
       "      <th>1.0</th>\n",
       "      <td>0.190471</td>\n",
       "    </tr>\n",
       "  </tbody>\n",
       "</table>\n",
       "</div>"
      ],
      "text/plain": [
       "                     fr_yn\n",
       "css_5_yn_encoded          \n",
       "0.0               0.119184\n",
       "1.0               0.190471"
      ]
     },
     "execution_count": 117,
     "metadata": {},
     "output_type": "execute_result"
    }
   ],
   "source": [
    "pd.pivot_table(train, index=\"css_5_yn_encoded\", values=\"fr_yn\")"
   ]
  },
  {
   "cell_type": "code",
   "execution_count": 118,
   "metadata": {},
   "outputs": [],
   "source": [
    "train.loc[train[\"fr_fghtng_fclt_spcl_css_6_yn\"].isnull(),\"css_6_yn_encoded\"]=0\n",
    "train.loc[train[\"fr_fghtng_fclt_spcl_css_6_yn\"].notnull(),\"css_6_yn_encoded\"]=1\n"
   ]
  },
  {
   "cell_type": "code",
   "execution_count": 119,
   "metadata": {
    "scrolled": true
   },
   "outputs": [
    {
     "data": {
      "text/html": [
       "<div>\n",
       "<style scoped>\n",
       "    .dataframe tbody tr th:only-of-type {\n",
       "        vertical-align: middle;\n",
       "    }\n",
       "\n",
       "    .dataframe tbody tr th {\n",
       "        vertical-align: top;\n",
       "    }\n",
       "\n",
       "    .dataframe thead th {\n",
       "        text-align: right;\n",
       "    }\n",
       "</style>\n",
       "<table border=\"1\" class=\"dataframe\">\n",
       "  <thead>\n",
       "    <tr style=\"text-align: right;\">\n",
       "      <th></th>\n",
       "      <th>fr_yn</th>\n",
       "    </tr>\n",
       "    <tr>\n",
       "      <th>css_6_yn_encoded</th>\n",
       "      <th></th>\n",
       "    </tr>\n",
       "  </thead>\n",
       "  <tbody>\n",
       "    <tr>\n",
       "      <th>0.0</th>\n",
       "      <td>0.119184</td>\n",
       "    </tr>\n",
       "    <tr>\n",
       "      <th>1.0</th>\n",
       "      <td>0.190471</td>\n",
       "    </tr>\n",
       "  </tbody>\n",
       "</table>\n",
       "</div>"
      ],
      "text/plain": [
       "                     fr_yn\n",
       "css_6_yn_encoded          \n",
       "0.0               0.119184\n",
       "1.0               0.190471"
      ]
     },
     "execution_count": 119,
     "metadata": {},
     "output_type": "execute_result"
    }
   ],
   "source": [
    "pd.pivot_table(train, index=\"css_6_yn_encoded\", values=\"fr_yn\")"
   ]
  },
  {
   "cell_type": "code",
   "execution_count": 120,
   "metadata": {},
   "outputs": [],
   "source": [
    "val.loc[train[\"fr_fghtng_fclt_spcl_css_6_yn\"].isnull(),\"css_6_yn_encoded\"]=0\n",
    "val.loc[train[\"fr_fghtng_fclt_spcl_css_6_yn\"].notnull(),\"css_6_yn_encoded\"]=1\n",
    "\n",
    "test.loc[train[\"fr_fghtng_fclt_spcl_css_6_yn\"].isnull(),\"css_6_yn_encoded\"]=0\n",
    "test.loc[train[\"fr_fghtng_fclt_spcl_css_6_yn\"].notnull(),\"css_6_yn_encoded\"]=1"
   ]
  },
  {
   "cell_type": "code",
   "execution_count": null,
   "metadata": {},
   "outputs": [],
   "source": []
  },
  {
   "cell_type": "code",
   "execution_count": 121,
   "metadata": {},
   "outputs": [],
   "source": [
    "train = train.drop(\"fr_fghtng_fclt_spcl_css_5_yn\", 1)\n",
    "val = val.drop(\"fr_fghtng_fclt_spcl_css_5_yn\", 1)\n",
    "test = test.drop(\"fr_fghtng_fclt_spcl_css_5_yn\", 1)\n",
    "\n",
    "train = train.drop(\"fr_fghtng_fclt_spcl_css_6_yn\", 1)\n",
    "val = val.drop(\"fr_fghtng_fclt_spcl_css_6_yn\", 1)\n",
    "test = test.drop(\"fr_fghtng_fclt_spcl_css_6_yn\", 1)\n",
    "\n",
    "train = train.drop(\"css_5_yn_encoded\", 1)\n",
    "\n"
   ]
  },
  {
   "cell_type": "markdown",
   "metadata": {},
   "source": [
    "### us_yn 사용 여부"
   ]
  },
  {
   "cell_type": "code",
   "execution_count": 122,
   "metadata": {},
   "outputs": [
    {
     "name": "stdout",
     "output_type": "stream",
     "text": [
      "(49447, 217)\n",
      "(9752, 217)\n",
      "(2318, 205)\n",
      "(639, 205)\n"
     ]
    }
   ],
   "source": [
    "print(train[train[\"us_yn\"].isnull()].shape)\n",
    "print(train[train[\"us_yn\"].notnull()].shape)\n",
    "print(test[test[\"us_yn\"].isnull()].shape)\n",
    "print(test[test[\"us_yn\"].notnull()].shape)"
   ]
  },
  {
   "cell_type": "code",
   "execution_count": 123,
   "metadata": {},
   "outputs": [
    {
     "data": {
      "text/html": [
       "<div>\n",
       "<style scoped>\n",
       "    .dataframe tbody tr th:only-of-type {\n",
       "        vertical-align: middle;\n",
       "    }\n",
       "\n",
       "    .dataframe tbody tr th {\n",
       "        vertical-align: top;\n",
       "    }\n",
       "\n",
       "    .dataframe thead th {\n",
       "        text-align: right;\n",
       "    }\n",
       "</style>\n",
       "<table border=\"1\" class=\"dataframe\">\n",
       "  <thead>\n",
       "    <tr style=\"text-align: right;\">\n",
       "      <th></th>\n",
       "      <th>fr_yn</th>\n",
       "    </tr>\n",
       "    <tr>\n",
       "      <th>us_yn</th>\n",
       "      <th></th>\n",
       "    </tr>\n",
       "  </thead>\n",
       "  <tbody>\n",
       "    <tr>\n",
       "      <th>N</th>\n",
       "      <td>0.225929</td>\n",
       "    </tr>\n",
       "    <tr>\n",
       "      <th>T</th>\n",
       "      <td>0.472693</td>\n",
       "    </tr>\n",
       "    <tr>\n",
       "      <th>Y</th>\n",
       "      <td>0.167046</td>\n",
       "    </tr>\n",
       "  </tbody>\n",
       "</table>\n",
       "</div>"
      ],
      "text/plain": [
       "          fr_yn\n",
       "us_yn          \n",
       "N      0.225929\n",
       "T      0.472693\n",
       "Y      0.167046"
      ]
     },
     "execution_count": 123,
     "metadata": {},
     "output_type": "execute_result"
    }
   ],
   "source": [
    "pd.pivot_table(train, index=\"us_yn\", values=\"fr_yn\")"
   ]
  },
  {
   "cell_type": "code",
   "execution_count": 124,
   "metadata": {
    "scrolled": true
   },
   "outputs": [
    {
     "data": {
      "text/plain": [
       "Y    7902\n",
       "N    1319\n",
       "T     531\n",
       "dtype: int64"
      ]
     },
     "execution_count": 124,
     "metadata": {},
     "output_type": "execute_result"
    }
   ],
   "source": [
    "pd.value_counts(train[\"us_yn\"].values.flatten())"
   ]
  },
  {
   "cell_type": "code",
   "execution_count": 125,
   "metadata": {},
   "outputs": [
    {
     "data": {
      "text/plain": [
       "Y    466\n",
       "N    117\n",
       "T     56\n",
       "dtype: int64"
      ]
     },
     "execution_count": 125,
     "metadata": {},
     "output_type": "execute_result"
    }
   ],
   "source": [
    "pd.value_counts(test[\"us_yn\"].values.flatten())"
   ]
  },
  {
   "cell_type": "code",
   "execution_count": 126,
   "metadata": {},
   "outputs": [],
   "source": [
    "one_hot_us_yn = pd.get_dummies(train[\"us_yn\"])\n",
    "train = train.join(one_hot_us_yn)\n",
    "\n",
    "one_hot_us_yn = pd.get_dummies(val[\"us_yn\"])\n",
    "val = val.join(one_hot_us_yn)\n",
    "\n",
    "one_hot_us_yn = pd.get_dummies(test[\"us_yn\"])\n",
    "test = test.join(one_hot_us_yn)"
   ]
  },
  {
   "cell_type": "code",
   "execution_count": 127,
   "metadata": {},
   "outputs": [],
   "source": [
    "train = train.drop(\"us_yn\", 1)\n",
    "val = val.drop(\"us_yn\", 1)\n",
    "test = test.drop(\"us_yn\", 1)"
   ]
  },
  {
   "cell_type": "markdown",
   "metadata": {},
   "source": [
    "### dngrs_thng_yn 위험물대상여부"
   ]
  },
  {
   "cell_type": "code",
   "execution_count": 128,
   "metadata": {},
   "outputs": [
    {
     "name": "stdout",
     "output_type": "stream",
     "text": [
      "(49447, 219)\n",
      "(9752, 219)\n",
      "(2318, 207)\n",
      "(639, 207)\n"
     ]
    }
   ],
   "source": [
    "print(train[train[\"dngrs_thng_yn\"].isnull()].shape)\n",
    "print(train[train[\"dngrs_thng_yn\"].notnull()].shape)\n",
    "print(test[test[\"dngrs_thng_yn\"].isnull()].shape)\n",
    "print(test[test[\"dngrs_thng_yn\"].notnull()].shape)"
   ]
  },
  {
   "cell_type": "code",
   "execution_count": 129,
   "metadata": {},
   "outputs": [
    {
     "data": {
      "text/plain": [
       "N    9746\n",
       "Y       6\n",
       "dtype: int64"
      ]
     },
     "execution_count": 129,
     "metadata": {},
     "output_type": "execute_result"
    }
   ],
   "source": [
    "pd.value_counts(train[\"dngrs_thng_yn\"].values.flatten())"
   ]
  },
  {
   "cell_type": "code",
   "execution_count": 130,
   "metadata": {},
   "outputs": [
    {
     "data": {
      "text/plain": [
       "N    639\n",
       "dtype: int64"
      ]
     },
     "execution_count": 130,
     "metadata": {},
     "output_type": "execute_result"
    }
   ],
   "source": [
    "pd.value_counts(test[\"dngrs_thng_yn\"].values.flatten())"
   ]
  },
  {
   "cell_type": "code",
   "execution_count": 131,
   "metadata": {},
   "outputs": [
    {
     "data": {
      "text/html": [
       "<div>\n",
       "<style scoped>\n",
       "    .dataframe tbody tr th:only-of-type {\n",
       "        vertical-align: middle;\n",
       "    }\n",
       "\n",
       "    .dataframe tbody tr th {\n",
       "        vertical-align: top;\n",
       "    }\n",
       "\n",
       "    .dataframe thead th {\n",
       "        text-align: right;\n",
       "    }\n",
       "</style>\n",
       "<table border=\"1\" class=\"dataframe\">\n",
       "  <thead>\n",
       "    <tr style=\"text-align: right;\">\n",
       "      <th></th>\n",
       "      <th>fr_yn</th>\n",
       "    </tr>\n",
       "    <tr>\n",
       "      <th>dngrs_thng_yn</th>\n",
       "      <th></th>\n",
       "    </tr>\n",
       "  </thead>\n",
       "  <tbody>\n",
       "    <tr>\n",
       "      <th>N</th>\n",
       "      <td>0.191668</td>\n",
       "    </tr>\n",
       "    <tr>\n",
       "      <th>Y</th>\n",
       "      <td>0.166667</td>\n",
       "    </tr>\n",
       "  </tbody>\n",
       "</table>\n",
       "</div>"
      ],
      "text/plain": [
       "                  fr_yn\n",
       "dngrs_thng_yn          \n",
       "N              0.191668\n",
       "Y              0.166667"
      ]
     },
     "execution_count": 131,
     "metadata": {},
     "output_type": "execute_result"
    }
   ],
   "source": [
    "pd.pivot_table(train, index=\"dngrs_thng_yn\", values=\"fr_yn\")"
   ]
  },
  {
   "cell_type": "code",
   "execution_count": 132,
   "metadata": {
    "scrolled": true
   },
   "outputs": [
    {
     "data": {
      "text/html": [
       "<div>\n",
       "<style scoped>\n",
       "    .dataframe tbody tr th:only-of-type {\n",
       "        vertical-align: middle;\n",
       "    }\n",
       "\n",
       "    .dataframe tbody tr th {\n",
       "        vertical-align: top;\n",
       "    }\n",
       "\n",
       "    .dataframe thead th {\n",
       "        text-align: right;\n",
       "    }\n",
       "</style>\n",
       "<table border=\"1\" class=\"dataframe\">\n",
       "  <thead>\n",
       "    <tr style=\"text-align: right;\">\n",
       "      <th></th>\n",
       "      <th>fr_yn</th>\n",
       "    </tr>\n",
       "    <tr>\n",
       "      <th>dngrs_thng_yn_encoded</th>\n",
       "      <th></th>\n",
       "    </tr>\n",
       "  </thead>\n",
       "  <tbody>\n",
       "    <tr>\n",
       "      <th>0.0</th>\n",
       "      <td>0.117055</td>\n",
       "    </tr>\n",
       "    <tr>\n",
       "      <th>1.0</th>\n",
       "      <td>0.191653</td>\n",
       "    </tr>\n",
       "  </tbody>\n",
       "</table>\n",
       "</div>"
      ],
      "text/plain": [
       "                          fr_yn\n",
       "dngrs_thng_yn_encoded          \n",
       "0.0                    0.117055\n",
       "1.0                    0.191653"
      ]
     },
     "execution_count": 132,
     "metadata": {},
     "output_type": "execute_result"
    }
   ],
   "source": [
    "train.loc[train[\"dngrs_thng_yn\"].isnull(),\"dngrs_thng_yn_encoded\"]= 0\n",
    "train.loc[train[\"dngrs_thng_yn\"].notnull(),\"dngrs_thng_yn_encoded\"]= 1\n",
    "\n",
    "\n",
    "pd.pivot_table(train, index=\"dngrs_thng_yn_encoded\", values=\"fr_yn\")"
   ]
  },
  {
   "cell_type": "code",
   "execution_count": 133,
   "metadata": {},
   "outputs": [],
   "source": [
    "val.loc[train[\"dngrs_thng_yn\"].isnull(),\"dngrs_thng_yn_encoded\"]= 0\n",
    "val.loc[train[\"dngrs_thng_yn\"].notnull(),\"dngrs_thng_yn_encoded\"]= 1\n",
    "\n",
    "test.loc[train[\"dngrs_thng_yn\"].isnull(),\"dngrs_thng_yn_encoded\"]= 0\n",
    "test.loc[train[\"dngrs_thng_yn\"].notnull(),\"dngrs_thng_yn_encoded\"]= 1"
   ]
  },
  {
   "cell_type": "code",
   "execution_count": 134,
   "metadata": {},
   "outputs": [],
   "source": [
    "train = train.drop(\"dngrs_thng_yn\", 1)\n",
    "val = val.drop(\"dngrs_thng_yn\", 1)\n",
    "test = test.drop(\"dngrs_thng_yn\", 1)"
   ]
  },
  {
   "cell_type": "code",
   "execution_count": null,
   "metadata": {},
   "outputs": [],
   "source": []
  },
  {
   "cell_type": "markdown",
   "metadata": {},
   "source": [
    "### slf_fr_brgd_yn 자체소방대여부"
   ]
  },
  {
   "cell_type": "code",
   "execution_count": 135,
   "metadata": {},
   "outputs": [
    {
     "name": "stdout",
     "output_type": "stream",
     "text": [
      "(49447, 219)\n",
      "(9752, 219)\n",
      "(2318, 207)\n",
      "(639, 207)\n"
     ]
    }
   ],
   "source": [
    "print(train[train[\"slf_fr_brgd_yn\"].isnull()].shape)\n",
    "print(train[train[\"slf_fr_brgd_yn\"].notnull()].shape)\n",
    "print(test[test[\"slf_fr_brgd_yn\"].isnull()].shape)\n",
    "print(test[test[\"slf_fr_brgd_yn\"].notnull()].shape)"
   ]
  },
  {
   "cell_type": "code",
   "execution_count": 136,
   "metadata": {},
   "outputs": [
    {
     "data": {
      "text/plain": [
       "N    9752\n",
       "dtype: int64"
      ]
     },
     "execution_count": 136,
     "metadata": {},
     "output_type": "execute_result"
    }
   ],
   "source": [
    "pd.value_counts(train[\"slf_fr_brgd_yn\"].values.flatten())"
   ]
  },
  {
   "cell_type": "code",
   "execution_count": 137,
   "metadata": {},
   "outputs": [
    {
     "data": {
      "text/plain": [
       "N    639\n",
       "dtype: int64"
      ]
     },
     "execution_count": 137,
     "metadata": {},
     "output_type": "execute_result"
    }
   ],
   "source": [
    "pd.value_counts(test[\"slf_fr_brgd_yn\"].values.flatten())"
   ]
  },
  {
   "cell_type": "code",
   "execution_count": 138,
   "metadata": {},
   "outputs": [
    {
     "data": {
      "text/html": [
       "<div>\n",
       "<style scoped>\n",
       "    .dataframe tbody tr th:only-of-type {\n",
       "        vertical-align: middle;\n",
       "    }\n",
       "\n",
       "    .dataframe tbody tr th {\n",
       "        vertical-align: top;\n",
       "    }\n",
       "\n",
       "    .dataframe thead th {\n",
       "        text-align: right;\n",
       "    }\n",
       "</style>\n",
       "<table border=\"1\" class=\"dataframe\">\n",
       "  <thead>\n",
       "    <tr style=\"text-align: right;\">\n",
       "      <th></th>\n",
       "      <th>fr_yn</th>\n",
       "    </tr>\n",
       "    <tr>\n",
       "      <th>slf_fr_brgd_yn</th>\n",
       "      <th></th>\n",
       "    </tr>\n",
       "  </thead>\n",
       "  <tbody>\n",
       "    <tr>\n",
       "      <th>0</th>\n",
       "      <td>0.117055</td>\n",
       "    </tr>\n",
       "    <tr>\n",
       "      <th>N</th>\n",
       "      <td>0.191653</td>\n",
       "    </tr>\n",
       "  </tbody>\n",
       "</table>\n",
       "</div>"
      ],
      "text/plain": [
       "                   fr_yn\n",
       "slf_fr_brgd_yn          \n",
       "0               0.117055\n",
       "N               0.191653"
      ]
     },
     "execution_count": 138,
     "metadata": {},
     "output_type": "execute_result"
    }
   ],
   "source": [
    "train.loc[train[\"slf_fr_brgd_yn\"].isnull(),\"slf_fr_brgd_yn\"]=0\n",
    "\n",
    "pd.pivot_table(train, index=\"slf_fr_brgd_yn\", values=\"fr_yn\")"
   ]
  },
  {
   "cell_type": "code",
   "execution_count": 139,
   "metadata": {},
   "outputs": [],
   "source": [
    "train = train.drop(\"slf_fr_brgd_yn\", 1)\n",
    "val = val.drop(\"slf_fr_brgd_yn\", 1)\n",
    "test = test.drop(\"slf_fr_brgd_yn\", 1)"
   ]
  },
  {
   "cell_type": "code",
   "execution_count": null,
   "metadata": {},
   "outputs": [],
   "source": []
  },
  {
   "cell_type": "markdown",
   "metadata": {},
   "source": [
    "### blk_dngrs_thng_mnfctr_yn 대량위험물제조소등여부"
   ]
  },
  {
   "cell_type": "code",
   "execution_count": 140,
   "metadata": {},
   "outputs": [
    {
     "name": "stdout",
     "output_type": "stream",
     "text": [
      "(49447, 218)\n",
      "(9752, 218)\n",
      "(2318, 206)\n",
      "(639, 206)\n"
     ]
    }
   ],
   "source": [
    "print(train[train[\"blk_dngrs_thng_mnfctr_yn\"].isnull()].shape)\n",
    "print(train[train[\"blk_dngrs_thng_mnfctr_yn\"].notnull()].shape)\n",
    "print(test[test[\"blk_dngrs_thng_mnfctr_yn\"].isnull()].shape)\n",
    "print(test[test[\"blk_dngrs_thng_mnfctr_yn\"].notnull()].shape)"
   ]
  },
  {
   "cell_type": "code",
   "execution_count": 141,
   "metadata": {},
   "outputs": [
    {
     "data": {
      "text/plain": [
       "N    9751\n",
       "Y       1\n",
       "dtype: int64"
      ]
     },
     "execution_count": 141,
     "metadata": {},
     "output_type": "execute_result"
    }
   ],
   "source": [
    "pd.value_counts(train[\"blk_dngrs_thng_mnfctr_yn\"].values.flatten())"
   ]
  },
  {
   "cell_type": "code",
   "execution_count": 142,
   "metadata": {},
   "outputs": [
    {
     "data": {
      "text/plain": [
       "N    639\n",
       "dtype: int64"
      ]
     },
     "execution_count": 142,
     "metadata": {},
     "output_type": "execute_result"
    }
   ],
   "source": [
    "pd.value_counts(test[\"blk_dngrs_thng_mnfctr_yn\"].values.flatten())"
   ]
  },
  {
   "cell_type": "code",
   "execution_count": 143,
   "metadata": {},
   "outputs": [
    {
     "data": {
      "text/html": [
       "<div>\n",
       "<style scoped>\n",
       "    .dataframe tbody tr th:only-of-type {\n",
       "        vertical-align: middle;\n",
       "    }\n",
       "\n",
       "    .dataframe tbody tr th {\n",
       "        vertical-align: top;\n",
       "    }\n",
       "\n",
       "    .dataframe thead th {\n",
       "        text-align: right;\n",
       "    }\n",
       "</style>\n",
       "<table border=\"1\" class=\"dataframe\">\n",
       "  <thead>\n",
       "    <tr style=\"text-align: right;\">\n",
       "      <th></th>\n",
       "      <th>fr_yn</th>\n",
       "    </tr>\n",
       "    <tr>\n",
       "      <th>blk_dngrs_thng_mnfctr_yn</th>\n",
       "      <th></th>\n",
       "    </tr>\n",
       "  </thead>\n",
       "  <tbody>\n",
       "    <tr>\n",
       "      <th>0</th>\n",
       "      <td>0.117055</td>\n",
       "    </tr>\n",
       "    <tr>\n",
       "      <th>N</th>\n",
       "      <td>0.191673</td>\n",
       "    </tr>\n",
       "    <tr>\n",
       "      <th>Y</th>\n",
       "      <td>0.000000</td>\n",
       "    </tr>\n",
       "  </tbody>\n",
       "</table>\n",
       "</div>"
      ],
      "text/plain": [
       "                             fr_yn\n",
       "blk_dngrs_thng_mnfctr_yn          \n",
       "0                         0.117055\n",
       "N                         0.191673\n",
       "Y                         0.000000"
      ]
     },
     "execution_count": 143,
     "metadata": {},
     "output_type": "execute_result"
    }
   ],
   "source": [
    "train.loc[train[\"blk_dngrs_thng_mnfctr_yn\"].isnull(),\"blk_dngrs_thng_mnfctr_yn\"]=0\n",
    "pd.pivot_table(train, index=\"blk_dngrs_thng_mnfctr_yn\", values=\"fr_yn\")"
   ]
  },
  {
   "cell_type": "code",
   "execution_count": 144,
   "metadata": {},
   "outputs": [],
   "source": [
    "train = train.drop(\"blk_dngrs_thng_mnfctr_yn\", 1)\n",
    "val = val.drop(\"blk_dngrs_thng_mnfctr_yn\", 1)\n",
    "test = test.drop(\"blk_dngrs_thng_mnfctr_yn\", 1)"
   ]
  },
  {
   "cell_type": "code",
   "execution_count": null,
   "metadata": {},
   "outputs": [],
   "source": []
  },
  {
   "cell_type": "markdown",
   "metadata": {},
   "source": [
    "### cltrl_hrtg_yn 문화재여부"
   ]
  },
  {
   "cell_type": "code",
   "execution_count": 145,
   "metadata": {},
   "outputs": [
    {
     "name": "stdout",
     "output_type": "stream",
     "text": [
      "(49447, 217)\n",
      "(9752, 217)\n",
      "(2318, 205)\n",
      "(639, 205)\n"
     ]
    }
   ],
   "source": [
    "print(train[train[\"cltrl_hrtg_yn\"].isnull()].shape)\n",
    "print(train[train[\"cltrl_hrtg_yn\"].notnull()].shape)\n",
    "print(test[test[\"cltrl_hrtg_yn\"].isnull()].shape)\n",
    "print(test[test[\"cltrl_hrtg_yn\"].notnull()].shape)"
   ]
  },
  {
   "cell_type": "code",
   "execution_count": 146,
   "metadata": {},
   "outputs": [
    {
     "data": {
      "text/plain": [
       "N    9751\n",
       "Y       1\n",
       "dtype: int64"
      ]
     },
     "execution_count": 146,
     "metadata": {},
     "output_type": "execute_result"
    }
   ],
   "source": [
    "pd.value_counts(train[\"cltrl_hrtg_yn\"].values.flatten())"
   ]
  },
  {
   "cell_type": "code",
   "execution_count": 147,
   "metadata": {},
   "outputs": [
    {
     "data": {
      "text/plain": [
       "N    639\n",
       "dtype: int64"
      ]
     },
     "execution_count": 147,
     "metadata": {},
     "output_type": "execute_result"
    }
   ],
   "source": [
    "pd.value_counts(test[\"cltrl_hrtg_yn\"].values.flatten())"
   ]
  },
  {
   "cell_type": "code",
   "execution_count": 148,
   "metadata": {},
   "outputs": [],
   "source": [
    "train = train.drop(\"cltrl_hrtg_yn\", 1)\n",
    "val = val.drop(\"cltrl_hrtg_yn\", 1)\n",
    "test = test.drop(\"cltrl_hrtg_yn\", 1)"
   ]
  },
  {
   "cell_type": "code",
   "execution_count": null,
   "metadata": {},
   "outputs": [],
   "source": []
  },
  {
   "cell_type": "markdown",
   "metadata": {},
   "source": [
    "# Train"
   ]
  },
  {
   "cell_type": "code",
   "execution_count": null,
   "metadata": {},
   "outputs": [],
   "source": []
  },
  {
   "cell_type": "code",
   "execution_count": null,
   "metadata": {},
   "outputs": [],
   "source": []
  },
  {
   "cell_type": "code",
   "execution_count": 149,
   "metadata": {},
   "outputs": [],
   "source": [
    "X_train = train.drop(['fr_yn', 'dt_of_fr'], 1)\n",
    "y_train = train['fr_yn']\n",
    "X_val = val.drop(['fr_yn', 'dt_of_fr'], 1)\n",
    "y_val = val['fr_yn']\n",
    "test = test.drop(['dt_of_fr'], 1)"
   ]
  },
  {
   "cell_type": "code",
   "execution_count": 150,
   "metadata": {},
   "outputs": [
    {
     "name": "stderr",
     "output_type": "stream",
     "text": [
      "C:\\Users\\ejvmw\\Anaconda3\\lib\\site-packages\\ipykernel_launcher.py:1: FutureWarning: Sorting because non-concatenation axis is not aligned. A future version\n",
      "of pandas will change to not sort by default.\n",
      "\n",
      "To accept the future behavior, pass 'sort=False'.\n",
      "\n",
      "To retain the current behavior and silence the warning, pass 'sort=True'.\n",
      "\n",
      "  \"\"\"Entry point for launching an IPython kernel.\n"
     ]
    }
   ],
   "source": [
    "df_all = pd.concat([X_train, X_val, test])\n",
    "\n",
    "categorical_cols = df_all.select_dtypes(['object']).columns\n",
    "for col in categorical_cols:\n",
    "    df_all[col] = pd.Categorical(df_all[col]).codes\n",
    "\n",
    "X_train = df_all[:len(train)]\n",
    "X_val = df_all[len(train):-len(test)]\n",
    "test = df_all[-len(test):]"
   ]
  },
  {
   "cell_type": "code",
   "execution_count": 151,
   "metadata": {},
   "outputs": [],
   "source": [
    "X_train = X_train.fillna(-1)\n",
    "X_val = X_val.fillna(-1)\n",
    "test = test.fillna(-1)"
   ]
  },
  {
   "cell_type": "code",
   "execution_count": 152,
   "metadata": {},
   "outputs": [
    {
     "data": {
      "text/plain": [
       "0.5049342105263158"
      ]
     },
     "execution_count": 152,
     "metadata": {},
     "output_type": "execute_result"
    }
   ],
   "source": [
    "from  sklearn.ensemble import RandomForestClassifier\n",
    "\n",
    "model = RandomForestClassifier(n_jobs=-1, n_estimators=100, random_state=42)\n",
    "model.fit(X_train, y_train)\n",
    "\n",
    "y_pred = model.predict(X_val)\n",
    "\n",
    "f1_score(y_val, y_pred)"
   ]
  },
  {
   "cell_type": "code",
   "execution_count": null,
   "metadata": {},
   "outputs": [],
   "source": []
  },
  {
   "cell_type": "code",
   "execution_count": null,
   "metadata": {},
   "outputs": [],
   "source": []
  },
  {
   "cell_type": "code",
   "execution_count": null,
   "metadata": {},
   "outputs": [],
   "source": []
  },
  {
   "cell_type": "code",
   "execution_count": null,
   "metadata": {},
   "outputs": [],
   "source": []
  },
  {
   "cell_type": "code",
   "execution_count": null,
   "metadata": {},
   "outputs": [],
   "source": []
  },
  {
   "cell_type": "code",
   "execution_count": null,
   "metadata": {},
   "outputs": [],
   "source": []
  },
  {
   "cell_type": "code",
   "execution_count": null,
   "metadata": {},
   "outputs": [],
   "source": []
  },
  {
   "cell_type": "code",
   "execution_count": null,
   "metadata": {},
   "outputs": [],
   "source": []
  }
 ],
 "metadata": {
  "kernelspec": {
   "display_name": "Python 3",
   "language": "python",
   "name": "python3"
  },
  "language_info": {
   "codemirror_mode": {
    "name": "ipython",
    "version": 3
   },
   "file_extension": ".py",
   "mimetype": "text/x-python",
   "name": "python",
   "nbconvert_exporter": "python",
   "pygments_lexer": "ipython3",
   "version": "3.7.3"
  }
 },
 "nbformat": 4,
 "nbformat_minor": 2
}
